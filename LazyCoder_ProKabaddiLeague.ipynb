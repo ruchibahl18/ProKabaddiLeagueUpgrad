{
 "cells": [
  {
   "cell_type": "markdown",
   "metadata": {},
   "source": [
    "# Pro hacking League study"
   ]
  },
  {
   "cell_type": "markdown",
   "metadata": {},
   "source": [
    "Importing all libraries"
   ]
  },
  {
   "cell_type": "code",
   "execution_count": 1152,
   "metadata": {},
   "outputs": [],
   "source": [
    "import json\n",
    "import csv\n",
    "import urllib.request, json\n",
    "from pandas.io.json import json_normalize\n",
    "import pandas as pd\n",
    "import urllib, json\n",
    "\n",
    "from sklearn.model_selection import train_test_split\n",
    "import pandas as pd\n",
    "import numpy as np \n",
    "import matplotlib.pyplot as plt\n",
    "import seaborn as sns\n",
    "%matplotlib inline\n",
    "\n",
    "from sklearn.linear_model import LogisticRegression\n",
    "from sklearn.metrics import classification_report,confusion_matrix, accuracy_score\n",
    "from sklearn import svm\n",
    "\n",
    "from sklearn.naive_bayes import GaussianNB\n",
    "# Importing random forest classifier from sklearn library\n",
    "from sklearn.ensemble import RandomForestClassifier\n",
    "from sklearn.preprocessing import StandardScaler\n",
    "from sklearn.linear_model import LinearRegression\n",
    "import statsmodels.api as sm\n",
    "\n",
    "# To ignore warnings\n",
    "import warnings\n",
    "warnings.filterwarnings(\"ignore\")"
   ]
  },
  {
   "cell_type": "markdown",
   "metadata": {},
   "source": [
    "Got the data of all teams of all seasons from the below URLs"
   ]
  },
  {
   "cell_type": "code",
   "execution_count": 1153,
   "metadata": {},
   "outputs": [],
   "source": [
    "urls = [\"https://www.prokabaddi.com/sifeeds/kabaddi/static/json/4_team.json\",\n",
    "       \"https://www.prokabaddi.com/sifeeds/kabaddi/static/json/1_team.json\",\n",
    "       \"https://www.prokabaddi.com/sifeeds/kabaddi/static/json/2_team.json\",\n",
    "       \"https://www.prokabaddi.com/sifeeds/kabaddi/static/json/31_team.json\",\n",
    "       \"https://www.prokabaddi.com/sifeeds/kabaddi/static/json/28_team.json\",\n",
    "       \"https://www.prokabaddi.com/sifeeds/kabaddi/static/json/3_team.json\",\n",
    "       \"https://www.prokabaddi.com/sifeeds/kabaddi/static/json/6_team.json\",\n",
    "       \"https://www.prokabaddi.com/sifeeds/kabaddi/static/json/7_team.json\",\n",
    "       \"https://www.prokabaddi.com/sifeeds/kabaddi/static/json/29_team.json\",\n",
    "       \"https://www.prokabaddi.com/sifeeds/kabaddi/static/json/8_team.json\",\n",
    "       \"https://www.prokabaddi.com/sifeeds/kabaddi/static/json/5_team.json\",\n",
    "       \"https://www.prokabaddi.com/sifeeds/kabaddi/static/json/30_team.json\"]"
   ]
  },
  {
   "cell_type": "code",
   "execution_count": 1154,
   "metadata": {},
   "outputs": [],
   "source": [
    "data_stats = pd.DataFrame()\n",
    "data_h2h = pd.DataFrame()"
   ]
  },
  {
   "cell_type": "markdown",
   "metadata": {},
   "source": [
    "Hitting the url and then placed data in data_stats. Ignoring head to head data."
   ]
  },
  {
   "cell_type": "code",
   "execution_count": 1155,
   "metadata": {},
   "outputs": [],
   "source": [
    "for url in urls:\n",
    "    response = urllib.request.urlopen(url)\n",
    "\n",
    "    data = json.loads(response.read())\n",
    "    bio = json_normalize(data['bio'])\n",
    "    bio_df = pd.DataFrame.from_dict(json_normalize(data['bio']), orient='columns')\n",
    "    \n",
    "    stats_df = pd.DataFrame.from_dict(json_normalize(data['over_all_stats']), orient='columns')\n",
    "    stats_df[['captain', 'captain_id','coach', 'coach_id','team_id', 'team_name']] = bio_df[['captain', 'captain_id','coach', 'coach_id','team_id', 'team_name']]\n",
    "    stats_df[['captain', 'captain_id','coach', 'coach_id','team_id', 'team_name']] = bio_df[['captain', 'captain_id','coach', 'coach_id','team_id', 'team_name']].loc[0].values\n",
    "    h2h = stats_df['h2h']\n",
    "    \n",
    "    stats_df = stats_df.drop(['h2h'], axis =1)\n",
    "\n",
    "    h2h_list = h2h.iloc[-1:].iloc[0]\n",
    "    \n",
    "    h2h_df = pd.DataFrame(h2h_list)\n",
    "    h2h_df[['captain', 'captain_id','coach', 'coach_id','team_id', 'team_name']] = bio_df[['captain', 'captain_id','coach', 'coach_id','team_id', 'team_name']]\n",
    "    h2h_df[['captain', 'captain_id','coach', 'coach_id','team_id', 'team_name']] = bio_df[['captain', 'captain_id','coach', 'coach_id','team_id', 'team_name']].loc[0].values\n",
    "    if data_stats.empty == True:\n",
    "        data_stats = stats_df.copy()\n",
    "        data_h2h = h2h_df.copy()\n",
    "    else:\n",
    "        data_stats = data_stats.append(stats_df, ignore_index = True).reset_index(drop = True)\n",
    "        data_h2h = data_h2h.append(h2h_df,ignore_index = True).reset_index(drop = True)\n"
   ]
  },
  {
   "cell_type": "code",
   "execution_count": 1156,
   "metadata": {},
   "outputs": [
    {
     "data": {
      "text/plain": [
       "(80, 72)"
      ]
     },
     "execution_count": 1156,
     "metadata": {},
     "output_type": "execute_result"
    }
   ],
   "source": [
    "data_stats.shape"
   ]
  },
  {
   "cell_type": "code",
   "execution_count": 1157,
   "metadata": {},
   "outputs": [
    {
     "data": {
      "text/html": [
       "<div>\n",
       "<style scoped>\n",
       "    .dataframe tbody tr th:only-of-type {\n",
       "        vertical-align: middle;\n",
       "    }\n",
       "\n",
       "    .dataframe tbody tr th {\n",
       "        vertical-align: top;\n",
       "    }\n",
       "\n",
       "    .dataframe thead th {\n",
       "        text-align: right;\n",
       "    }\n",
       "</style>\n",
       "<table border=\"1\" class=\"dataframe\">\n",
       "  <thead>\n",
       "    <tr style=\"text-align: right;\">\n",
       "      <th></th>\n",
       "      <th>all_out_points</th>\n",
       "      <th>all_outs</th>\n",
       "      <th>captain</th>\n",
       "      <th>captain_id</th>\n",
       "      <th>capture_points</th>\n",
       "      <th>coach</th>\n",
       "      <th>coach_id</th>\n",
       "      <th>defence_touch_points</th>\n",
       "      <th>defending_bonus_points</th>\n",
       "      <th>draws</th>\n",
       "      <th>...</th>\n",
       "      <th>top_defender_value</th>\n",
       "      <th>top_raider</th>\n",
       "      <th>top_raider_id</th>\n",
       "      <th>top_raider_value</th>\n",
       "      <th>total_defending_points</th>\n",
       "      <th>total_raid_points</th>\n",
       "      <th>unsuccesful_tackles</th>\n",
       "      <th>unsuccess_raids</th>\n",
       "      <th>wins</th>\n",
       "      <th>yellow_cards</th>\n",
       "    </tr>\n",
       "  </thead>\n",
       "  <tbody>\n",
       "    <tr>\n",
       "      <th>0</th>\n",
       "      <td>22</td>\n",
       "      <td>11</td>\n",
       "      <td>Maninder Singh</td>\n",
       "      <td>143</td>\n",
       "      <td></td>\n",
       "      <td>BC Ramesh</td>\n",
       "      <td>812</td>\n",
       "      <td>122</td>\n",
       "      <td>16</td>\n",
       "      <td>1</td>\n",
       "      <td>...</td>\n",
       "      <td>28</td>\n",
       "      <td>Nitin Madane</td>\n",
       "      <td>75</td>\n",
       "      <td>101</td>\n",
       "      <td>122</td>\n",
       "      <td>283</td>\n",
       "      <td>275</td>\n",
       "      <td>146</td>\n",
       "      <td>4</td>\n",
       "      <td>0</td>\n",
       "    </tr>\n",
       "    <tr>\n",
       "      <th>1</th>\n",
       "      <td>20</td>\n",
       "      <td>10</td>\n",
       "      <td>Maninder Singh</td>\n",
       "      <td>143</td>\n",
       "      <td></td>\n",
       "      <td>BC Ramesh</td>\n",
       "      <td>812</td>\n",
       "      <td>136</td>\n",
       "      <td>21</td>\n",
       "      <td>1</td>\n",
       "      <td>...</td>\n",
       "      <td>27</td>\n",
       "      <td>Mahendra Ganesh Rajput</td>\n",
       "      <td>163</td>\n",
       "      <td>55</td>\n",
       "      <td>136</td>\n",
       "      <td>184</td>\n",
       "      <td>190</td>\n",
       "      <td>151</td>\n",
       "      <td>4</td>\n",
       "      <td>0</td>\n",
       "    </tr>\n",
       "    <tr>\n",
       "      <th>2</th>\n",
       "      <td>34</td>\n",
       "      <td>17</td>\n",
       "      <td>Maninder Singh</td>\n",
       "      <td>143</td>\n",
       "      <td></td>\n",
       "      <td>BC Ramesh</td>\n",
       "      <td>812</td>\n",
       "      <td>150</td>\n",
       "      <td>13</td>\n",
       "      <td>0</td>\n",
       "      <td>...</td>\n",
       "      <td>37</td>\n",
       "      <td>Jang Kun Lee</td>\n",
       "      <td>12</td>\n",
       "      <td>79</td>\n",
       "      <td>150</td>\n",
       "      <td>250</td>\n",
       "      <td>192</td>\n",
       "      <td>144</td>\n",
       "      <td>9</td>\n",
       "      <td>0</td>\n",
       "    </tr>\n",
       "    <tr>\n",
       "      <th>3</th>\n",
       "      <td>22</td>\n",
       "      <td>11</td>\n",
       "      <td>Maninder Singh</td>\n",
       "      <td>143</td>\n",
       "      <td></td>\n",
       "      <td>BC Ramesh</td>\n",
       "      <td>812</td>\n",
       "      <td>125</td>\n",
       "      <td>8</td>\n",
       "      <td>2</td>\n",
       "      <td>...</td>\n",
       "      <td>31</td>\n",
       "      <td>Jang Kun Lee</td>\n",
       "      <td>12</td>\n",
       "      <td>61</td>\n",
       "      <td>125</td>\n",
       "      <td>202</td>\n",
       "      <td>201</td>\n",
       "      <td>125</td>\n",
       "      <td>3</td>\n",
       "      <td>0</td>\n",
       "    </tr>\n",
       "    <tr>\n",
       "      <th>4</th>\n",
       "      <td>54</td>\n",
       "      <td>27</td>\n",
       "      <td>Maninder Singh</td>\n",
       "      <td>143</td>\n",
       "      <td></td>\n",
       "      <td>BC Ramesh</td>\n",
       "      <td>812</td>\n",
       "      <td>193</td>\n",
       "      <td>12</td>\n",
       "      <td>6</td>\n",
       "      <td>...</td>\n",
       "      <td>76</td>\n",
       "      <td>Maninder Singh</td>\n",
       "      <td>143</td>\n",
       "      <td>190</td>\n",
       "      <td>193</td>\n",
       "      <td>455</td>\n",
       "      <td>340</td>\n",
       "      <td>223</td>\n",
       "      <td>11</td>\n",
       "      <td>1</td>\n",
       "    </tr>\n",
       "  </tbody>\n",
       "</table>\n",
       "<p>5 rows × 72 columns</p>\n",
       "</div>"
      ],
      "text/plain": [
       "   all_out_points  all_outs         captain  captain_id capture_points  \\\n",
       "0              22        11  Maninder Singh         143                  \n",
       "1              20        10  Maninder Singh         143                  \n",
       "2              34        17  Maninder Singh         143                  \n",
       "3              22        11  Maninder Singh         143                  \n",
       "4              54        27  Maninder Singh         143                  \n",
       "\n",
       "       coach  coach_id  defence_touch_points  defending_bonus_points  draws  \\\n",
       "0  BC Ramesh       812                   122                      16      1   \n",
       "1  BC Ramesh       812                   136                      21      1   \n",
       "2  BC Ramesh       812                   150                      13      0   \n",
       "3  BC Ramesh       812                   125                       8      2   \n",
       "4  BC Ramesh       812                   193                      12      6   \n",
       "\n",
       "   ...  top_defender_value              top_raider  top_raider_id  \\\n",
       "0  ...                  28            Nitin Madane             75   \n",
       "1  ...                  27  Mahendra Ganesh Rajput            163   \n",
       "2  ...                  37            Jang Kun Lee             12   \n",
       "3  ...                  31            Jang Kun Lee             12   \n",
       "4  ...                  76          Maninder Singh            143   \n",
       "\n",
       "   top_raider_value total_defending_points  total_raid_points  \\\n",
       "0               101                    122                283   \n",
       "1                55                    136                184   \n",
       "2                79                    150                250   \n",
       "3                61                    125                202   \n",
       "4               190                    193                455   \n",
       "\n",
       "   unsuccesful_tackles unsuccess_raids  wins yellow_cards  \n",
       "0                  275             146     4            0  \n",
       "1                  190             151     4            0  \n",
       "2                  192             144     9            0  \n",
       "3                  201             125     3            0  \n",
       "4                  340             223    11            1  \n",
       "\n",
       "[5 rows x 72 columns]"
      ]
     },
     "execution_count": 1157,
     "metadata": {},
     "output_type": "execute_result"
    }
   ],
   "source": [
    "data_stats.head()"
   ]
  },
  {
   "cell_type": "code",
   "execution_count": 1158,
   "metadata": {},
   "outputs": [
    {
     "data": {
      "text/plain": [
       "Index(['all_out_points', 'all_outs', 'captain', 'captain_id', 'capture_points',\n",
       "       'coach', 'coach_id', 'defence_touch_points', 'defending_bonus_points',\n",
       "       'draws', 'empty_raid', 'extra_points', 'green_cards',\n",
       "       'highest_score.highest_score', 'highest_score.match_date',\n",
       "       'highest_score.match_id', 'highest_score.team_id',\n",
       "       'highest_score.team_name', 'highest_score.venue_id',\n",
       "       'highest_score.venue_name', 'losses', 'matches',\n",
       "       'max_win_margin.match_date', 'max_win_margin.match_id',\n",
       "       'max_win_margin.max_win_margin', 'max_win_margin.team1_id',\n",
       "       'max_win_margin.team1_name', 'max_win_margin.team1_score',\n",
       "       'max_win_margin.team2_id', 'max_win_margin.team2_name',\n",
       "       'max_win_margin.team2_score', 'max_win_margin.venue_id',\n",
       "       'max_win_margin.venue_name', 'name', 'player_team', 'points',\n",
       "       'raid_bonus_points', 'raid_touch_points', 'raids', 'rank', 'red_cards',\n",
       "       'score_difference', 'series_id', 'series_name', 'success_raid_percent',\n",
       "       'success_raids', 'success_tackles', 'super_raids', 'super_tackles',\n",
       "       'tackle_bonus_points', 'tackle_points', 'tackle_success_rate',\n",
       "       'tackles', 'team_id', 'team_name', 'titles.title_details',\n",
       "       'titles.total', 'top_all_rounder_value', 'top_allrounder',\n",
       "       'top_allrounder_id', 'top_defender', 'top_defender_id',\n",
       "       'top_defender_value', 'top_raider', 'top_raider_id', 'top_raider_value',\n",
       "       'total_defending_points', 'total_raid_points', 'unsuccesful_tackles',\n",
       "       'unsuccess_raids', 'wins', 'yellow_cards'],\n",
       "      dtype='object')"
      ]
     },
     "execution_count": 1158,
     "metadata": {},
     "output_type": "execute_result"
    }
   ],
   "source": [
    "data_stats.columns"
   ]
  },
  {
   "cell_type": "code",
   "execution_count": 1159,
   "metadata": {},
   "outputs": [
    {
     "data": {
      "text/html": [
       "<div>\n",
       "<style scoped>\n",
       "    .dataframe tbody tr th:only-of-type {\n",
       "        vertical-align: middle;\n",
       "    }\n",
       "\n",
       "    .dataframe tbody tr th {\n",
       "        vertical-align: top;\n",
       "    }\n",
       "\n",
       "    .dataframe thead th {\n",
       "        text-align: right;\n",
       "    }\n",
       "</style>\n",
       "<table border=\"1\" class=\"dataframe\">\n",
       "  <thead>\n",
       "    <tr style=\"text-align: right;\">\n",
       "      <th></th>\n",
       "      <th>all_out_points</th>\n",
       "      <th>all_outs</th>\n",
       "      <th>captain_id</th>\n",
       "      <th>coach_id</th>\n",
       "      <th>defence_touch_points</th>\n",
       "      <th>defending_bonus_points</th>\n",
       "      <th>draws</th>\n",
       "      <th>empty_raid</th>\n",
       "      <th>extra_points</th>\n",
       "      <th>green_cards</th>\n",
       "      <th>...</th>\n",
       "      <th>top_defender_id</th>\n",
       "      <th>top_defender_value</th>\n",
       "      <th>top_raider_id</th>\n",
       "      <th>top_raider_value</th>\n",
       "      <th>total_defending_points</th>\n",
       "      <th>total_raid_points</th>\n",
       "      <th>unsuccesful_tackles</th>\n",
       "      <th>unsuccess_raids</th>\n",
       "      <th>wins</th>\n",
       "      <th>yellow_cards</th>\n",
       "    </tr>\n",
       "  </thead>\n",
       "  <tbody>\n",
       "    <tr>\n",
       "      <th>count</th>\n",
       "      <td>80.000000</td>\n",
       "      <td>80.000000</td>\n",
       "      <td>80.000000</td>\n",
       "      <td>80.00000</td>\n",
       "      <td>80.000000</td>\n",
       "      <td>80.000000</td>\n",
       "      <td>80.00000</td>\n",
       "      <td>80.000000</td>\n",
       "      <td>80.000000</td>\n",
       "      <td>80.000000</td>\n",
       "      <td>...</td>\n",
       "      <td>80.000000</td>\n",
       "      <td>80.000000</td>\n",
       "      <td>80.000000</td>\n",
       "      <td>80.000000</td>\n",
       "      <td>80.000000</td>\n",
       "      <td>80.000000</td>\n",
       "      <td>80.000000</td>\n",
       "      <td>80.000000</td>\n",
       "      <td>80.00000</td>\n",
       "      <td>80.000000</td>\n",
       "    </tr>\n",
       "    <tr>\n",
       "      <th>mean</th>\n",
       "      <td>74.450000</td>\n",
       "      <td>37.225000</td>\n",
       "      <td>271.050000</td>\n",
       "      <td>1100.30000</td>\n",
       "      <td>304.825000</td>\n",
       "      <td>27.400000</td>\n",
       "      <td>3.05000</td>\n",
       "      <td>586.100000</td>\n",
       "      <td>52.525000</td>\n",
       "      <td>16.025000</td>\n",
       "      <td>...</td>\n",
       "      <td>389.875000</td>\n",
       "      <td>67.262500</td>\n",
       "      <td>345.412500</td>\n",
       "      <td>196.375000</td>\n",
       "      <td>304.825000</td>\n",
       "      <td>574.950000</td>\n",
       "      <td>450.425000</td>\n",
       "      <td>303.350000</td>\n",
       "      <td>14.27500</td>\n",
       "      <td>1.075000</td>\n",
       "    </tr>\n",
       "    <tr>\n",
       "      <th>std</th>\n",
       "      <td>81.760363</td>\n",
       "      <td>40.880182</td>\n",
       "      <td>196.007356</td>\n",
       "      <td>1040.07045</td>\n",
       "      <td>321.893204</td>\n",
       "      <td>30.236452</td>\n",
       "      <td>3.41219</td>\n",
       "      <td>617.883763</td>\n",
       "      <td>56.427163</td>\n",
       "      <td>17.588097</td>\n",
       "      <td>...</td>\n",
       "      <td>526.252054</td>\n",
       "      <td>45.629977</td>\n",
       "      <td>614.166713</td>\n",
       "      <td>172.924391</td>\n",
       "      <td>321.893204</td>\n",
       "      <td>608.622972</td>\n",
       "      <td>475.773555</td>\n",
       "      <td>317.919666</td>\n",
       "      <td>15.94371</td>\n",
       "      <td>1.784426</td>\n",
       "    </tr>\n",
       "    <tr>\n",
       "      <th>min</th>\n",
       "      <td>18.000000</td>\n",
       "      <td>9.000000</td>\n",
       "      <td>26.000000</td>\n",
       "      <td>29.00000</td>\n",
       "      <td>100.000000</td>\n",
       "      <td>5.000000</td>\n",
       "      <td>0.00000</td>\n",
       "      <td>174.000000</td>\n",
       "      <td>1.000000</td>\n",
       "      <td>1.000000</td>\n",
       "      <td>...</td>\n",
       "      <td>42.000000</td>\n",
       "      <td>20.000000</td>\n",
       "      <td>12.000000</td>\n",
       "      <td>45.000000</td>\n",
       "      <td>100.000000</td>\n",
       "      <td>184.000000</td>\n",
       "      <td>166.000000</td>\n",
       "      <td>116.000000</td>\n",
       "      <td>1.00000</td>\n",
       "      <td>0.000000</td>\n",
       "    </tr>\n",
       "    <tr>\n",
       "      <th>25%</th>\n",
       "      <td>34.000000</td>\n",
       "      <td>17.000000</td>\n",
       "      <td>143.000000</td>\n",
       "      <td>163.25000</td>\n",
       "      <td>155.250000</td>\n",
       "      <td>12.000000</td>\n",
       "      <td>1.00000</td>\n",
       "      <td>301.250000</td>\n",
       "      <td>25.000000</td>\n",
       "      <td>5.000000</td>\n",
       "      <td>...</td>\n",
       "      <td>142.000000</td>\n",
       "      <td>42.000000</td>\n",
       "      <td>58.000000</td>\n",
       "      <td>100.750000</td>\n",
       "      <td>155.250000</td>\n",
       "      <td>268.500000</td>\n",
       "      <td>210.000000</td>\n",
       "      <td>150.250000</td>\n",
       "      <td>6.00000</td>\n",
       "      <td>0.000000</td>\n",
       "    </tr>\n",
       "    <tr>\n",
       "      <th>50%</th>\n",
       "      <td>44.000000</td>\n",
       "      <td>22.000000</td>\n",
       "      <td>228.000000</td>\n",
       "      <td>808.00000</td>\n",
       "      <td>191.500000</td>\n",
       "      <td>16.000000</td>\n",
       "      <td>2.00000</td>\n",
       "      <td>353.000000</td>\n",
       "      <td>32.500000</td>\n",
       "      <td>10.000000</td>\n",
       "      <td>...</td>\n",
       "      <td>244.000000</td>\n",
       "      <td>55.500000</td>\n",
       "      <td>124.000000</td>\n",
       "      <td>145.000000</td>\n",
       "      <td>191.500000</td>\n",
       "      <td>350.000000</td>\n",
       "      <td>284.000000</td>\n",
       "      <td>195.500000</td>\n",
       "      <td>9.00000</td>\n",
       "      <td>0.000000</td>\n",
       "    </tr>\n",
       "    <tr>\n",
       "      <th>75%</th>\n",
       "      <td>65.000000</td>\n",
       "      <td>32.500000</td>\n",
       "      <td>326.000000</td>\n",
       "      <td>2466.00000</td>\n",
       "      <td>230.500000</td>\n",
       "      <td>25.000000</td>\n",
       "      <td>3.00000</td>\n",
       "      <td>443.500000</td>\n",
       "      <td>49.250000</td>\n",
       "      <td>16.500000</td>\n",
       "      <td>...</td>\n",
       "      <td>358.000000</td>\n",
       "      <td>67.000000</td>\n",
       "      <td>318.000000</td>\n",
       "      <td>214.250000</td>\n",
       "      <td>230.500000</td>\n",
       "      <td>450.500000</td>\n",
       "      <td>343.750000</td>\n",
       "      <td>224.500000</td>\n",
       "      <td>13.25000</td>\n",
       "      <td>1.250000</td>\n",
       "    </tr>\n",
       "    <tr>\n",
       "      <th>max</th>\n",
       "      <td>386.000000</td>\n",
       "      <td>193.000000</td>\n",
       "      <td>725.000000</td>\n",
       "      <td>2469.00000</td>\n",
       "      <td>1317.000000</td>\n",
       "      <td>131.000000</td>\n",
       "      <td>15.00000</td>\n",
       "      <td>2444.000000</td>\n",
       "      <td>231.000000</td>\n",
       "      <td>78.000000</td>\n",
       "      <td>...</td>\n",
       "      <td>2670.000000</td>\n",
       "      <td>231.000000</td>\n",
       "      <td>2661.000000</td>\n",
       "      <td>1092.000000</td>\n",
       "      <td>1317.000000</td>\n",
       "      <td>2633.000000</td>\n",
       "      <td>1945.000000</td>\n",
       "      <td>1248.000000</td>\n",
       "      <td>78.00000</td>\n",
       "      <td>11.000000</td>\n",
       "    </tr>\n",
       "  </tbody>\n",
       "</table>\n",
       "<p>8 rows × 53 columns</p>\n",
       "</div>"
      ],
      "text/plain": [
       "       all_out_points    all_outs  captain_id    coach_id  \\\n",
       "count       80.000000   80.000000   80.000000    80.00000   \n",
       "mean        74.450000   37.225000  271.050000  1100.30000   \n",
       "std         81.760363   40.880182  196.007356  1040.07045   \n",
       "min         18.000000    9.000000   26.000000    29.00000   \n",
       "25%         34.000000   17.000000  143.000000   163.25000   \n",
       "50%         44.000000   22.000000  228.000000   808.00000   \n",
       "75%         65.000000   32.500000  326.000000  2466.00000   \n",
       "max        386.000000  193.000000  725.000000  2469.00000   \n",
       "\n",
       "       defence_touch_points  defending_bonus_points     draws   empty_raid  \\\n",
       "count             80.000000               80.000000  80.00000    80.000000   \n",
       "mean             304.825000               27.400000   3.05000   586.100000   \n",
       "std              321.893204               30.236452   3.41219   617.883763   \n",
       "min              100.000000                5.000000   0.00000   174.000000   \n",
       "25%              155.250000               12.000000   1.00000   301.250000   \n",
       "50%              191.500000               16.000000   2.00000   353.000000   \n",
       "75%              230.500000               25.000000   3.00000   443.500000   \n",
       "max             1317.000000              131.000000  15.00000  2444.000000   \n",
       "\n",
       "       extra_points  green_cards  ...  top_defender_id  top_defender_value  \\\n",
       "count     80.000000    80.000000  ...        80.000000           80.000000   \n",
       "mean      52.525000    16.025000  ...       389.875000           67.262500   \n",
       "std       56.427163    17.588097  ...       526.252054           45.629977   \n",
       "min        1.000000     1.000000  ...        42.000000           20.000000   \n",
       "25%       25.000000     5.000000  ...       142.000000           42.000000   \n",
       "50%       32.500000    10.000000  ...       244.000000           55.500000   \n",
       "75%       49.250000    16.500000  ...       358.000000           67.000000   \n",
       "max      231.000000    78.000000  ...      2670.000000          231.000000   \n",
       "\n",
       "       top_raider_id  top_raider_value  total_defending_points  \\\n",
       "count      80.000000         80.000000               80.000000   \n",
       "mean      345.412500        196.375000              304.825000   \n",
       "std       614.166713        172.924391              321.893204   \n",
       "min        12.000000         45.000000              100.000000   \n",
       "25%        58.000000        100.750000              155.250000   \n",
       "50%       124.000000        145.000000              191.500000   \n",
       "75%       318.000000        214.250000              230.500000   \n",
       "max      2661.000000       1092.000000             1317.000000   \n",
       "\n",
       "       total_raid_points  unsuccesful_tackles  unsuccess_raids      wins  \\\n",
       "count          80.000000            80.000000        80.000000  80.00000   \n",
       "mean          574.950000           450.425000       303.350000  14.27500   \n",
       "std           608.622972           475.773555       317.919666  15.94371   \n",
       "min           184.000000           166.000000       116.000000   1.00000   \n",
       "25%           268.500000           210.000000       150.250000   6.00000   \n",
       "50%           350.000000           284.000000       195.500000   9.00000   \n",
       "75%           450.500000           343.750000       224.500000  13.25000   \n",
       "max          2633.000000          1945.000000      1248.000000  78.00000   \n",
       "\n",
       "       yellow_cards  \n",
       "count     80.000000  \n",
       "mean       1.075000  \n",
       "std        1.784426  \n",
       "min        0.000000  \n",
       "25%        0.000000  \n",
       "50%        0.000000  \n",
       "75%        1.250000  \n",
       "max       11.000000  \n",
       "\n",
       "[8 rows x 53 columns]"
      ]
     },
     "execution_count": 1159,
     "metadata": {},
     "output_type": "execute_result"
    }
   ],
   "source": [
    "data_stats.describe()"
   ]
  },
  {
   "cell_type": "markdown",
   "metadata": {},
   "source": [
    "Lets separate the numeric data from categorical data. Categorical data mostly are names so we will simply drop those columns"
   ]
  },
  {
   "cell_type": "code",
   "execution_count": 1160,
   "metadata": {},
   "outputs": [],
   "source": [
    "numeric_data = data_stats._get_numeric_data().columns"
   ]
  },
  {
   "cell_type": "code",
   "execution_count": 1161,
   "metadata": {},
   "outputs": [],
   "source": [
    "categorical_data = list(set(data_stats.columns) - set(numeric_data))"
   ]
  },
  {
   "cell_type": "code",
   "execution_count": 1162,
   "metadata": {},
   "outputs": [
    {
     "data": {
      "text/plain": [
       "['team_name',\n",
       " 'name',\n",
       " 'captain',\n",
       " 'highest_score.venue_name',\n",
       " 'titles.title_details',\n",
       " 'series_name',\n",
       " 'max_win_margin.venue_name',\n",
       " 'capture_points',\n",
       " 'highest_score.team_name',\n",
       " 'top_raider',\n",
       " 'max_win_margin.team1_name',\n",
       " 'tackle_bonus_points',\n",
       " 'max_win_margin.team2_name',\n",
       " 'max_win_margin.match_date',\n",
       " 'top_defender',\n",
       " 'coach',\n",
       " 'highest_score.match_date',\n",
       " 'top_allrounder',\n",
       " 'rank']"
      ]
     },
     "execution_count": 1162,
     "metadata": {},
     "output_type": "execute_result"
    }
   ],
   "source": [
    "categorical_data"
   ]
  },
  {
   "cell_type": "code",
   "execution_count": 1163,
   "metadata": {},
   "outputs": [],
   "source": [
    "data_stats_final_df = data_stats.drop(['max_win_margin.venue_name',\n",
    " 'titles.title_details',\n",
    " 'max_win_margin.team2_name',\n",
    " 'top_defender',\n",
    " 'top_raider',\n",
    " 'team_name',\n",
    " 'coach',\n",
    " 'highest_score.venue_name',\n",
    " 'tackle_bonus_points',\n",
    " 'top_allrounder',\n",
    " 'highest_score.team_name',\n",
    " 'series_name',\n",
    " 'captain',\n",
    " 'capture_points',\n",
    " 'highest_score.match_date',\n",
    " 'name',\n",
    " 'max_win_margin.team1_name',\n",
    " 'max_win_margin.match_date'], axis = 1)"
   ]
  },
  {
   "cell_type": "markdown",
   "metadata": {},
   "source": [
    "## Question 1:- Find the winner"
   ]
  },
  {
   "cell_type": "code",
   "execution_count": 1164,
   "metadata": {},
   "outputs": [
    {
     "data": {
      "text/plain": [
       "-     12\n",
       "4     12\n",
       "1      9\n",
       "2      9\n",
       "6      9\n",
       "3      9\n",
       "5      7\n",
       "8      5\n",
       "7      4\n",
       "9      2\n",
       "10     1\n",
       "12     1\n",
       "Name: rank, dtype: int64"
      ]
     },
     "execution_count": 1164,
     "metadata": {},
     "output_type": "execute_result"
    }
   ],
   "source": [
    "data_stats_final_df['rank'].value_counts()"
   ]
  },
  {
   "cell_type": "markdown",
   "metadata": {},
   "source": [
    "Here we can see that there are 12 rows where there is no rank. These rows are our test rows for which we have to predict the rank and then ultimately the winner. So lets get our test dataframe"
   ]
  },
  {
   "cell_type": "code",
   "execution_count": 1165,
   "metadata": {},
   "outputs": [],
   "source": [
    "train_df = data_stats_final_df[data_stats_final_df['rank']!='-']\n",
    "test_df = data_stats_final_df[data_stats_final_df['rank']=='-']"
   ]
  },
  {
   "cell_type": "markdown",
   "metadata": {},
   "source": [
    "Will be making rank as a numeric columns so that we can predict is easily"
   ]
  },
  {
   "cell_type": "code",
   "execution_count": 1166,
   "metadata": {},
   "outputs": [],
   "source": [
    "train_df['rank'] = pd.to_numeric(train_df['rank'])"
   ]
  },
  {
   "cell_type": "markdown",
   "metadata": {},
   "source": [
    "Handling null and missing values"
   ]
  },
  {
   "cell_type": "code",
   "execution_count": 1167,
   "metadata": {},
   "outputs": [
    {
     "data": {
      "text/plain": [
       "Index(['titles.total', 'top_all_rounder_value', 'top_allrounder_id'], dtype='object')"
      ]
     },
     "execution_count": 1167,
     "metadata": {},
     "output_type": "execute_result"
    }
   ],
   "source": [
    "null_columns=train_df.columns[train_df.isna().any()]\n",
    "null_columns"
   ]
  },
  {
   "cell_type": "code",
   "execution_count": 1168,
   "metadata": {},
   "outputs": [
    {
     "data": {
      "text/plain": [
       "Series([], Name: titles.total, dtype: int64)"
      ]
     },
     "execution_count": 1168,
     "metadata": {},
     "output_type": "execute_result"
    }
   ],
   "source": [
    "train_df['titles.total'].value_counts()"
   ]
  },
  {
   "cell_type": "markdown",
   "metadata": {},
   "source": [
    "Dropped titles as they are mostly null"
   ]
  },
  {
   "cell_type": "code",
   "execution_count": 1169,
   "metadata": {},
   "outputs": [],
   "source": [
    "train_df.drop(['titles.total'],axis=1, inplace=True)\n",
    "test_df.drop(['titles.total'],axis=1, inplace=True)"
   ]
  },
  {
   "cell_type": "markdown",
   "metadata": {},
   "source": [
    "Filled the top all rounder id and value with 0"
   ]
  },
  {
   "cell_type": "code",
   "execution_count": 1172,
   "metadata": {},
   "outputs": [],
   "source": [
    "train_df['top_allrounder_id'] = train_df['top_allrounder_id'].fillna(0.0)\n",
    "train_df['top_all_rounder_value'] = train_df['top_all_rounder_value'].fillna(0.0)\n",
    "\n",
    "train_df['top_allrounder_id'] = train_df['top_allrounder_id'].fillna(0.0)\n",
    "train_df['top_all_rounder_value'] = train_df['top_all_rounder_value'].fillna(0.0)"
   ]
  },
  {
   "cell_type": "code",
   "execution_count": 1173,
   "metadata": {},
   "outputs": [
    {
     "data": {
      "text/plain": [
       "0"
      ]
     },
     "execution_count": 1173,
     "metadata": {},
     "output_type": "execute_result"
    }
   ],
   "source": [
    "train_df.isna().any().sum()"
   ]
  },
  {
   "cell_type": "code",
   "execution_count": 1174,
   "metadata": {},
   "outputs": [
    {
     "data": {
      "text/plain": [
       "0"
      ]
     },
     "execution_count": 1174,
     "metadata": {},
     "output_type": "execute_result"
    }
   ],
   "source": [
    "train_df.isna().any().sum()"
   ]
  },
  {
   "cell_type": "markdown",
   "metadata": {},
   "source": [
    "No more null data is present"
   ]
  },
  {
   "cell_type": "markdown",
   "metadata": {},
   "source": [
    "to map team id later with team name lets separate teamid column first and then reset its index. Also separate rank column"
   ]
  },
  {
   "cell_type": "code",
   "execution_count": 1176,
   "metadata": {},
   "outputs": [],
   "source": [
    "rank = train_df['rank']\n",
    "team_id = test_df['team_id'].reset_index(drop=True)"
   ]
  },
  {
   "cell_type": "code",
   "execution_count": 1107,
   "metadata": {},
   "outputs": [],
   "source": [
    "#train_df.drop(not_to_scale, axis = 1, inplace = True)\n",
    "#test_df.drop(not_to_scale, axis = 1, inplace = True)"
   ]
  },
  {
   "cell_type": "code",
   "execution_count": 1108,
   "metadata": {},
   "outputs": [
    {
     "data": {
      "text/plain": [
       "<matplotlib.axes._subplots.AxesSubplot at 0x18386ed3f28>"
      ]
     },
     "execution_count": 1108,
     "metadata": {},
     "output_type": "execute_result"
    },
    {
     "data": {
      "image/png": "[encoded data removed]",
      "text/plain": [
       "<Figure size 1440x1440 with 2 Axes>"
      ]
     },
     "metadata": {
      "needs_background": "light"
     },
     "output_type": "display_data"
    }
   ],
   "source": [
    "corr = train_df.corr()\n",
    "fig, ax = plt.subplots(figsize=(20,20))      \n",
    "sns.heatmap(corr, xticklabels=corr.columns, yticklabels=corr.columns)"
   ]
  },
  {
   "cell_type": "code",
   "execution_count": 1109,
   "metadata": {},
   "outputs": [],
   "source": [
    "Y = rank\n",
    "X = train_df"
   ]
  },
  {
   "cell_type": "code",
   "execution_count": 1110,
   "metadata": {},
   "outputs": [],
   "source": [
    "col_list = ['points', 'wins', 'losses']"
   ]
  },
  {
   "cell_type": "code",
   "execution_count": 1111,
   "metadata": {},
   "outputs": [
    {
     "data": {
      "text/plain": [
       "'train_df = train_df[col_list]\\ntest_df = test_df[col_list]\\n\\nY = rank\\nX = train_df'"
      ]
     },
     "execution_count": 1111,
     "metadata": {},
     "output_type": "execute_result"
    }
   ],
   "source": [
    "'''train_df = train_df[col_list]\n",
    "test_df = test_df[col_list]\n",
    "\n",
    "Y = rank\n",
    "X = train_df'''"
   ]
  },
  {
   "cell_type": "code",
   "execution_count": 1112,
   "metadata": {},
   "outputs": [],
   "source": [
    "#to_scale = col_list"
   ]
  },
  {
   "cell_type": "code",
   "execution_count": 1113,
   "metadata": {},
   "outputs": [],
   "source": [
    "X_train, X_test, y_train, y_test = train_test_split(X, Y, test_size=0.30, random_state=101)"
   ]
  },
  {
   "cell_type": "code",
   "execution_count": null,
   "metadata": {},
   "outputs": [],
   "source": []
  },
  {
   "cell_type": "code",
   "execution_count": 1114,
   "metadata": {},
   "outputs": [],
   "source": [
    "#to_scale = ['points', 'wins', 'all_out_points']"
   ]
  },
  {
   "cell_type": "code",
   "execution_count": 1115,
   "metadata": {},
   "outputs": [],
   "source": [
    "'''\n",
    "scaler = StandardScaler()\n",
    "X_train[to_scale] = scaler.fit_transform(X_train[to_scale])\n",
    "X_test[to_scale] = scaler.transform(X_test[to_scale])\n",
    "\n",
    "\n",
    "diff_train = max(y_train) - min(y_train)\n",
    "mean_train = y_train.mean()\n",
    "y_train = (abs(y_train - mean_train)) / diff_train\n",
    "\n",
    "\n",
    "\n",
    "diff_test = max(y_test) - min(y_test)\n",
    "mean_test = y_test.mean()\n",
    "y_test = (abs(y_test - mean_test)) / diff_test\n",
    "'''\n",
    "\n",
    "'''\n",
    "\n",
    "'''\n",
    "diff_train = max(y_train) - min(y_train)\n",
    "mean_train = y_train.mean()\n",
    "y_train = (abs(y_train - mean_train)) / diff_train\n",
    "\n",
    "\n",
    "\n",
    "diff_test = max(y_test) - min(y_test)\n",
    "mean_test = y_test.mean()\n",
    "y_test = (abs(y_test - mean_test)) / diff_test\n",
    "\n"
   ]
  },
  {
   "cell_type": "code",
   "execution_count": 1116,
   "metadata": {},
   "outputs": [
    {
     "data": {
      "text/plain": [
       "<matplotlib.axes._subplots.AxesSubplot at 0x1838a6d9ac8>"
      ]
     },
     "execution_count": 1116,
     "metadata": {},
     "output_type": "execute_result"
    },
    {
     "data": {
      "image/png": "[encoded data removed]",
      "text/plain": [
       "<Figure size 1440x1440 with 2 Axes>"
      ]
     },
     "metadata": {
      "needs_background": "light"
     },
     "output_type": "display_data"
    }
   ],
   "source": [
    "corr = train_df.corr()\n",
    "fig, ax = plt.subplots(figsize=(20,20))      \n",
    "sns.heatmap(corr, xticklabels=corr.columns, yticklabels=corr.columns)"
   ]
  },
  {
   "cell_type": "code",
   "execution_count": 1117,
   "metadata": {},
   "outputs": [],
   "source": [
    "from sklearn.metrics import mean_squared_error, r2_score"
   ]
  },
  {
   "cell_type": "code",
   "execution_count": 1118,
   "metadata": {},
   "outputs": [
    {
     "data": {
      "text/plain": [
       "SVR(C=1.0, cache_size=200, coef0=0.0, degree=3, epsilon=0.1,\n",
       "    gamma='auto_deprecated', kernel='rbf', max_iter=-1, shrinking=True,\n",
       "    tol=0.001, verbose=False)"
      ]
     },
     "execution_count": 1118,
     "metadata": {},
     "output_type": "execute_result"
    }
   ],
   "source": [
    "svm_model = svm.SVR()\n",
    "svm_model.fit(X_train,y_train)"
   ]
  },
  {
   "cell_type": "code",
   "execution_count": 1119,
   "metadata": {},
   "outputs": [
    {
     "data": {
      "text/plain": [
       "53"
      ]
     },
     "execution_count": 1119,
     "metadata": {},
     "output_type": "execute_result"
    }
   ],
   "source": [
    "#def get_predicted_outcome(model, data):\n",
    "#    return np.argmax(model.predict_proba(data), axis=1).astype(np.float32)\n",
    "#def get_predicted_rank(model, data):\n",
    "#    return model.predict_proba(data)[:, 1]\n",
    "\n",
    "len(X_train.columns)"
   ]
  },
  {
   "cell_type": "code",
   "execution_count": 1120,
   "metadata": {},
   "outputs": [],
   "source": [
    "# Making predictions\n",
    "predictions = svm_model.predict(X_test)"
   ]
  },
  {
   "cell_type": "code",
   "execution_count": 1121,
   "metadata": {},
   "outputs": [
    {
     "name": "stdout",
     "output_type": "stream",
     "text": [
      "R2 score : -0.08\n",
      "Mean squared error: 0.02\n"
     ]
    }
   ],
   "source": [
    "print(\"R2 score : %.2f\" % r2_score(y_test,predictions))\n",
    "print(\"Mean squared error: %.2f\" % mean_squared_error(y_test,predictions))\n"
   ]
  },
  {
   "cell_type": "code",
   "execution_count": 1122,
   "metadata": {},
   "outputs": [
    {
     "name": "stdout",
     "output_type": "stream",
     "text": [
      "-0.08390527393109459\n"
     ]
    }
   ],
   "source": [
    "# Let's check the report of our default model\n",
    "#print(classification_report(y_test,predictions))\n",
    "\n",
    "print(svm_model.score(X_test, y_test))"
   ]
  },
  {
   "cell_type": "markdown",
   "metadata": {},
   "source": [
    "## Because the best accuracy score is of SVM so we have taken take that model"
   ]
  },
  {
   "cell_type": "code",
   "execution_count": null,
   "metadata": {},
   "outputs": [],
   "source": []
  },
  {
   "cell_type": "code",
   "execution_count": 1123,
   "metadata": {},
   "outputs": [],
   "source": [
    "#test_df[to_scale] = scaler.transform(test_df[to_scale])"
   ]
  },
  {
   "cell_type": "code",
   "execution_count": 1124,
   "metadata": {},
   "outputs": [],
   "source": [
    "test_df[to_scale] = test_df[to_scale]"
   ]
  },
  {
   "cell_type": "code",
   "execution_count": 1125,
   "metadata": {},
   "outputs": [
    {
     "ename": "ValueError",
     "evalue": "could not convert string to float: '-'",
     "output_type": "error",
     "traceback": [
      "\u001b[1;31m---------------------------------------------------------------------------\u001b[0m",
      "\u001b[1;31mValueError\u001b[0m                                Traceback (most recent call last)",
      "\u001b[1;32m<ipython-input-1125-078201c31b9d>\u001b[0m in \u001b[0;36m<module>\u001b[1;34m\u001b[0m\n\u001b[0;32m      1\u001b[0m \u001b[1;31m#predictions = svm_clf.predict(test_df)\u001b[0m\u001b[1;33m\u001b[0m\u001b[1;33m\u001b[0m\u001b[1;33m\u001b[0m\u001b[0m\n\u001b[1;32m----> 2\u001b[1;33m \u001b[0mpredictions\u001b[0m \u001b[1;33m=\u001b[0m \u001b[0msvm_model\u001b[0m\u001b[1;33m.\u001b[0m\u001b[0mpredict\u001b[0m\u001b[1;33m(\u001b[0m\u001b[0mtest_df\u001b[0m\u001b[1;33m)\u001b[0m\u001b[1;33m\u001b[0m\u001b[1;33m\u001b[0m\u001b[0m\n\u001b[0m\u001b[0;32m      3\u001b[0m \u001b[0mmin\u001b[0m\u001b[1;33m(\u001b[0m\u001b[0mpredictions\u001b[0m\u001b[1;33m)\u001b[0m\u001b[1;33m\u001b[0m\u001b[1;33m\u001b[0m\u001b[0m\n",
      "\u001b[1;32m~\\AppData\\Local\\Continuum\\anaconda3\\lib\\site-packages\\sklearn\\svm\\base.py\u001b[0m in \u001b[0;36mpredict\u001b[1;34m(self, X)\u001b[0m\n\u001b[0;32m    320\u001b[0m         \u001b[0my_pred\u001b[0m \u001b[1;33m:\u001b[0m \u001b[0marray\u001b[0m\u001b[1;33m,\u001b[0m \u001b[0mshape\u001b[0m \u001b[1;33m(\u001b[0m\u001b[0mn_samples\u001b[0m\u001b[1;33m,\u001b[0m\u001b[1;33m)\u001b[0m\u001b[1;33m\u001b[0m\u001b[1;33m\u001b[0m\u001b[0m\n\u001b[0;32m    321\u001b[0m         \"\"\"\n\u001b[1;32m--> 322\u001b[1;33m         \u001b[0mX\u001b[0m \u001b[1;33m=\u001b[0m \u001b[0mself\u001b[0m\u001b[1;33m.\u001b[0m\u001b[0m_validate_for_predict\u001b[0m\u001b[1;33m(\u001b[0m\u001b[0mX\u001b[0m\u001b[1;33m)\u001b[0m\u001b[1;33m\u001b[0m\u001b[1;33m\u001b[0m\u001b[0m\n\u001b[0m\u001b[0;32m    323\u001b[0m         \u001b[0mpredict\u001b[0m \u001b[1;33m=\u001b[0m \u001b[0mself\u001b[0m\u001b[1;33m.\u001b[0m\u001b[0m_sparse_predict\u001b[0m \u001b[1;32mif\u001b[0m \u001b[0mself\u001b[0m\u001b[1;33m.\u001b[0m\u001b[0m_sparse\u001b[0m \u001b[1;32melse\u001b[0m \u001b[0mself\u001b[0m\u001b[1;33m.\u001b[0m\u001b[0m_dense_predict\u001b[0m\u001b[1;33m\u001b[0m\u001b[1;33m\u001b[0m\u001b[0m\n\u001b[0;32m    324\u001b[0m         \u001b[1;32mreturn\u001b[0m \u001b[0mpredict\u001b[0m\u001b[1;33m(\u001b[0m\u001b[0mX\u001b[0m\u001b[1;33m)\u001b[0m\u001b[1;33m\u001b[0m\u001b[1;33m\u001b[0m\u001b[0m\n",
      "\u001b[1;32m~\\AppData\\Local\\Continuum\\anaconda3\\lib\\site-packages\\sklearn\\svm\\base.py\u001b[0m in \u001b[0;36m_validate_for_predict\u001b[1;34m(self, X)\u001b[0m\n\u001b[0;32m    452\u001b[0m \u001b[1;33m\u001b[0m\u001b[0m\n\u001b[0;32m    453\u001b[0m         X = check_array(X, accept_sparse='csr', dtype=np.float64, order=\"C\",\n\u001b[1;32m--> 454\u001b[1;33m                         accept_large_sparse=False)\n\u001b[0m\u001b[0;32m    455\u001b[0m         \u001b[1;32mif\u001b[0m \u001b[0mself\u001b[0m\u001b[1;33m.\u001b[0m\u001b[0m_sparse\u001b[0m \u001b[1;32mand\u001b[0m \u001b[1;32mnot\u001b[0m \u001b[0msp\u001b[0m\u001b[1;33m.\u001b[0m\u001b[0misspmatrix\u001b[0m\u001b[1;33m(\u001b[0m\u001b[0mX\u001b[0m\u001b[1;33m)\u001b[0m\u001b[1;33m:\u001b[0m\u001b[1;33m\u001b[0m\u001b[1;33m\u001b[0m\u001b[0m\n\u001b[0;32m    456\u001b[0m             \u001b[0mX\u001b[0m \u001b[1;33m=\u001b[0m \u001b[0msp\u001b[0m\u001b[1;33m.\u001b[0m\u001b[0mcsr_matrix\u001b[0m\u001b[1;33m(\u001b[0m\u001b[0mX\u001b[0m\u001b[1;33m)\u001b[0m\u001b[1;33m\u001b[0m\u001b[1;33m\u001b[0m\u001b[0m\n",
      "\u001b[1;32m~\\AppData\\Local\\Continuum\\anaconda3\\lib\\site-packages\\sklearn\\utils\\validation.py\u001b[0m in \u001b[0;36mcheck_array\u001b[1;34m(array, accept_sparse, accept_large_sparse, dtype, order, copy, force_all_finite, ensure_2d, allow_nd, ensure_min_samples, ensure_min_features, warn_on_dtype, estimator)\u001b[0m\n\u001b[0;32m    494\u001b[0m             \u001b[1;32mtry\u001b[0m\u001b[1;33m:\u001b[0m\u001b[1;33m\u001b[0m\u001b[1;33m\u001b[0m\u001b[0m\n\u001b[0;32m    495\u001b[0m                 \u001b[0mwarnings\u001b[0m\u001b[1;33m.\u001b[0m\u001b[0msimplefilter\u001b[0m\u001b[1;33m(\u001b[0m\u001b[1;34m'error'\u001b[0m\u001b[1;33m,\u001b[0m \u001b[0mComplexWarning\u001b[0m\u001b[1;33m)\u001b[0m\u001b[1;33m\u001b[0m\u001b[1;33m\u001b[0m\u001b[0m\n\u001b[1;32m--> 496\u001b[1;33m                 \u001b[0marray\u001b[0m \u001b[1;33m=\u001b[0m \u001b[0mnp\u001b[0m\u001b[1;33m.\u001b[0m\u001b[0masarray\u001b[0m\u001b[1;33m(\u001b[0m\u001b[0marray\u001b[0m\u001b[1;33m,\u001b[0m \u001b[0mdtype\u001b[0m\u001b[1;33m=\u001b[0m\u001b[0mdtype\u001b[0m\u001b[1;33m,\u001b[0m \u001b[0morder\u001b[0m\u001b[1;33m=\u001b[0m\u001b[0morder\u001b[0m\u001b[1;33m)\u001b[0m\u001b[1;33m\u001b[0m\u001b[1;33m\u001b[0m\u001b[0m\n\u001b[0m\u001b[0;32m    497\u001b[0m             \u001b[1;32mexcept\u001b[0m \u001b[0mComplexWarning\u001b[0m\u001b[1;33m:\u001b[0m\u001b[1;33m\u001b[0m\u001b[1;33m\u001b[0m\u001b[0m\n\u001b[0;32m    498\u001b[0m                 raise ValueError(\"Complex data not supported\\n\"\n",
      "\u001b[1;32m~\\AppData\\Local\\Continuum\\anaconda3\\lib\\site-packages\\numpy\\core\\numeric.py\u001b[0m in \u001b[0;36masarray\u001b[1;34m(a, dtype, order)\u001b[0m\n\u001b[0;32m    536\u001b[0m \u001b[1;33m\u001b[0m\u001b[0m\n\u001b[0;32m    537\u001b[0m     \"\"\"\n\u001b[1;32m--> 538\u001b[1;33m     \u001b[1;32mreturn\u001b[0m \u001b[0marray\u001b[0m\u001b[1;33m(\u001b[0m\u001b[0ma\u001b[0m\u001b[1;33m,\u001b[0m \u001b[0mdtype\u001b[0m\u001b[1;33m,\u001b[0m \u001b[0mcopy\u001b[0m\u001b[1;33m=\u001b[0m\u001b[1;32mFalse\u001b[0m\u001b[1;33m,\u001b[0m \u001b[0morder\u001b[0m\u001b[1;33m=\u001b[0m\u001b[0morder\u001b[0m\u001b[1;33m)\u001b[0m\u001b[1;33m\u001b[0m\u001b[1;33m\u001b[0m\u001b[0m\n\u001b[0m\u001b[0;32m    539\u001b[0m \u001b[1;33m\u001b[0m\u001b[0m\n\u001b[0;32m    540\u001b[0m \u001b[1;33m\u001b[0m\u001b[0m\n",
      "\u001b[1;31mValueError\u001b[0m: could not convert string to float: '-'"
     ]
    }
   ],
   "source": [
    "#predictions = svm_clf.predict(test_df)\n",
    "predictions = svm_model.predict(test_df)\n",
    "min(predictions)"
   ]
  },
  {
   "cell_type": "code",
   "execution_count": null,
   "metadata": {},
   "outputs": [],
   "source": [
    "test_df"
   ]
  },
  {
   "cell_type": "code",
   "execution_count": null,
   "metadata": {},
   "outputs": [],
   "source": []
  },
  {
   "cell_type": "code",
   "execution_count": null,
   "metadata": {},
   "outputs": [],
   "source": [
    "#max(rfc.predict_proba(test_df)[:1])"
   ]
  },
  {
   "cell_type": "code",
   "execution_count": null,
   "metadata": {},
   "outputs": [],
   "source": [
    "predictions = pd.Series(predictions).rename('predictions')\n",
    "#predictions\n",
    "result = pd.concat([team_id, predictions], axis=1).reset_index(drop=True)\n",
    "result\n",
    "result[result['predictions'] == min(result['predictions'])]"
   ]
  },
  {
   "cell_type": "code",
   "execution_count": null,
   "metadata": {},
   "outputs": [],
   "source": [
    "model = LinearRegression()\n",
    "model = LinearRegression().fit(X_train, y_train)\n",
    "print(model.score(X_test, y_test))\n",
    "predictions = model.predict(test_df)\n"
   ]
  },
  {
   "cell_type": "code",
   "execution_count": 1126,
   "metadata": {},
   "outputs": [
    {
     "data": {
      "text/html": [
       "<div>\n",
       "<style scoped>\n",
       "    .dataframe tbody tr th:only-of-type {\n",
       "        vertical-align: middle;\n",
       "    }\n",
       "\n",
       "    .dataframe tbody tr th {\n",
       "        vertical-align: top;\n",
       "    }\n",
       "\n",
       "    .dataframe thead th {\n",
       "        text-align: right;\n",
       "    }\n",
       "</style>\n",
       "<table border=\"1\" class=\"dataframe\">\n",
       "  <thead>\n",
       "    <tr style=\"text-align: right;\">\n",
       "      <th></th>\n",
       "      <th>team_id</th>\n",
       "      <th>predictions</th>\n",
       "    </tr>\n",
       "  </thead>\n",
       "  <tbody>\n",
       "    <tr>\n",
       "      <th>0</th>\n",
       "      <td>4.0</td>\n",
       "      <td>0.233072</td>\n",
       "    </tr>\n",
       "    <tr>\n",
       "      <th>1</th>\n",
       "      <td>1.0</td>\n",
       "      <td>0.233072</td>\n",
       "    </tr>\n",
       "    <tr>\n",
       "      <th>2</th>\n",
       "      <td>2.0</td>\n",
       "      <td>0.233072</td>\n",
       "    </tr>\n",
       "    <tr>\n",
       "      <th>3</th>\n",
       "      <td>31.0</td>\n",
       "      <td>0.233072</td>\n",
       "    </tr>\n",
       "    <tr>\n",
       "      <th>4</th>\n",
       "      <td>28.0</td>\n",
       "      <td>0.233072</td>\n",
       "    </tr>\n",
       "    <tr>\n",
       "      <th>5</th>\n",
       "      <td>3.0</td>\n",
       "      <td>0.233072</td>\n",
       "    </tr>\n",
       "    <tr>\n",
       "      <th>6</th>\n",
       "      <td>6.0</td>\n",
       "      <td>0.233072</td>\n",
       "    </tr>\n",
       "    <tr>\n",
       "      <th>7</th>\n",
       "      <td>7.0</td>\n",
       "      <td>0.233072</td>\n",
       "    </tr>\n",
       "    <tr>\n",
       "      <th>8</th>\n",
       "      <td>29.0</td>\n",
       "      <td>0.233072</td>\n",
       "    </tr>\n",
       "    <tr>\n",
       "      <th>9</th>\n",
       "      <td>8.0</td>\n",
       "      <td>0.233072</td>\n",
       "    </tr>\n",
       "    <tr>\n",
       "      <th>10</th>\n",
       "      <td>5.0</td>\n",
       "      <td>0.233072</td>\n",
       "    </tr>\n",
       "    <tr>\n",
       "      <th>11</th>\n",
       "      <td>30.0</td>\n",
       "      <td>0.233072</td>\n",
       "    </tr>\n",
       "    <tr>\n",
       "      <th>12</th>\n",
       "      <td>NaN</td>\n",
       "      <td>0.233072</td>\n",
       "    </tr>\n",
       "    <tr>\n",
       "      <th>13</th>\n",
       "      <td>NaN</td>\n",
       "      <td>0.233072</td>\n",
       "    </tr>\n",
       "    <tr>\n",
       "      <th>14</th>\n",
       "      <td>NaN</td>\n",
       "      <td>0.233072</td>\n",
       "    </tr>\n",
       "    <tr>\n",
       "      <th>15</th>\n",
       "      <td>NaN</td>\n",
       "      <td>0.233072</td>\n",
       "    </tr>\n",
       "    <tr>\n",
       "      <th>16</th>\n",
       "      <td>NaN</td>\n",
       "      <td>0.233072</td>\n",
       "    </tr>\n",
       "    <tr>\n",
       "      <th>17</th>\n",
       "      <td>NaN</td>\n",
       "      <td>0.233072</td>\n",
       "    </tr>\n",
       "    <tr>\n",
       "      <th>18</th>\n",
       "      <td>NaN</td>\n",
       "      <td>0.233072</td>\n",
       "    </tr>\n",
       "    <tr>\n",
       "      <th>19</th>\n",
       "      <td>NaN</td>\n",
       "      <td>0.233072</td>\n",
       "    </tr>\n",
       "    <tr>\n",
       "      <th>20</th>\n",
       "      <td>NaN</td>\n",
       "      <td>0.233072</td>\n",
       "    </tr>\n",
       "  </tbody>\n",
       "</table>\n",
       "</div>"
      ],
      "text/plain": [
       "    team_id  predictions\n",
       "0       4.0     0.233072\n",
       "1       1.0     0.233072\n",
       "2       2.0     0.233072\n",
       "3      31.0     0.233072\n",
       "4      28.0     0.233072\n",
       "5       3.0     0.233072\n",
       "6       6.0     0.233072\n",
       "7       7.0     0.233072\n",
       "8      29.0     0.233072\n",
       "9       8.0     0.233072\n",
       "10      5.0     0.233072\n",
       "11     30.0     0.233072\n",
       "12      NaN     0.233072\n",
       "13      NaN     0.233072\n",
       "14      NaN     0.233072\n",
       "15      NaN     0.233072\n",
       "16      NaN     0.233072\n",
       "17      NaN     0.233072\n",
       "18      NaN     0.233072\n",
       "19      NaN     0.233072\n",
       "20      NaN     0.233072"
      ]
     },
     "execution_count": 1126,
     "metadata": {},
     "output_type": "execute_result"
    }
   ],
   "source": [
    "predictions = pd.Series(predictions).rename('predictions')\n",
    "#predictions\n",
    "result = pd.concat([team_id, predictions], axis=1).reset_index(drop=True)\n",
    "result\n",
    "result[result['predictions'] == max(result['predictions'])]"
   ]
  },
  {
   "cell_type": "code",
   "execution_count": 1127,
   "metadata": {},
   "outputs": [
    {
     "data": {
      "text/html": [
       "<div>\n",
       "<style scoped>\n",
       "    .dataframe tbody tr th:only-of-type {\n",
       "        vertical-align: middle;\n",
       "    }\n",
       "\n",
       "    .dataframe tbody tr th {\n",
       "        vertical-align: top;\n",
       "    }\n",
       "\n",
       "    .dataframe thead th {\n",
       "        text-align: right;\n",
       "    }\n",
       "</style>\n",
       "<table border=\"1\" class=\"dataframe\">\n",
       "  <thead>\n",
       "    <tr style=\"text-align: right;\">\n",
       "      <th></th>\n",
       "      <th>team_id</th>\n",
       "      <th>predictions</th>\n",
       "    </tr>\n",
       "  </thead>\n",
       "  <tbody>\n",
       "    <tr>\n",
       "      <th>0</th>\n",
       "      <td>4.0</td>\n",
       "      <td>0.233072</td>\n",
       "    </tr>\n",
       "    <tr>\n",
       "      <th>1</th>\n",
       "      <td>1.0</td>\n",
       "      <td>0.233072</td>\n",
       "    </tr>\n",
       "    <tr>\n",
       "      <th>2</th>\n",
       "      <td>2.0</td>\n",
       "      <td>0.233072</td>\n",
       "    </tr>\n",
       "    <tr>\n",
       "      <th>3</th>\n",
       "      <td>31.0</td>\n",
       "      <td>0.233072</td>\n",
       "    </tr>\n",
       "    <tr>\n",
       "      <th>4</th>\n",
       "      <td>28.0</td>\n",
       "      <td>0.233072</td>\n",
       "    </tr>\n",
       "    <tr>\n",
       "      <th>5</th>\n",
       "      <td>3.0</td>\n",
       "      <td>0.233072</td>\n",
       "    </tr>\n",
       "    <tr>\n",
       "      <th>6</th>\n",
       "      <td>6.0</td>\n",
       "      <td>0.233072</td>\n",
       "    </tr>\n",
       "    <tr>\n",
       "      <th>7</th>\n",
       "      <td>7.0</td>\n",
       "      <td>0.233072</td>\n",
       "    </tr>\n",
       "    <tr>\n",
       "      <th>8</th>\n",
       "      <td>29.0</td>\n",
       "      <td>0.233072</td>\n",
       "    </tr>\n",
       "    <tr>\n",
       "      <th>9</th>\n",
       "      <td>8.0</td>\n",
       "      <td>0.233072</td>\n",
       "    </tr>\n",
       "    <tr>\n",
       "      <th>10</th>\n",
       "      <td>5.0</td>\n",
       "      <td>0.233072</td>\n",
       "    </tr>\n",
       "    <tr>\n",
       "      <th>11</th>\n",
       "      <td>30.0</td>\n",
       "      <td>0.233072</td>\n",
       "    </tr>\n",
       "    <tr>\n",
       "      <th>12</th>\n",
       "      <td>NaN</td>\n",
       "      <td>0.233072</td>\n",
       "    </tr>\n",
       "    <tr>\n",
       "      <th>13</th>\n",
       "      <td>NaN</td>\n",
       "      <td>0.233072</td>\n",
       "    </tr>\n",
       "    <tr>\n",
       "      <th>14</th>\n",
       "      <td>NaN</td>\n",
       "      <td>0.233072</td>\n",
       "    </tr>\n",
       "    <tr>\n",
       "      <th>15</th>\n",
       "      <td>NaN</td>\n",
       "      <td>0.233072</td>\n",
       "    </tr>\n",
       "    <tr>\n",
       "      <th>16</th>\n",
       "      <td>NaN</td>\n",
       "      <td>0.233072</td>\n",
       "    </tr>\n",
       "    <tr>\n",
       "      <th>17</th>\n",
       "      <td>NaN</td>\n",
       "      <td>0.233072</td>\n",
       "    </tr>\n",
       "    <tr>\n",
       "      <th>18</th>\n",
       "      <td>NaN</td>\n",
       "      <td>0.233072</td>\n",
       "    </tr>\n",
       "    <tr>\n",
       "      <th>19</th>\n",
       "      <td>NaN</td>\n",
       "      <td>0.233072</td>\n",
       "    </tr>\n",
       "    <tr>\n",
       "      <th>20</th>\n",
       "      <td>NaN</td>\n",
       "      <td>0.233072</td>\n",
       "    </tr>\n",
       "  </tbody>\n",
       "</table>\n",
       "</div>"
      ],
      "text/plain": [
       "    team_id  predictions\n",
       "0       4.0     0.233072\n",
       "1       1.0     0.233072\n",
       "2       2.0     0.233072\n",
       "3      31.0     0.233072\n",
       "4      28.0     0.233072\n",
       "5       3.0     0.233072\n",
       "6       6.0     0.233072\n",
       "7       7.0     0.233072\n",
       "8      29.0     0.233072\n",
       "9       8.0     0.233072\n",
       "10      5.0     0.233072\n",
       "11     30.0     0.233072\n",
       "12      NaN     0.233072\n",
       "13      NaN     0.233072\n",
       "14      NaN     0.233072\n",
       "15      NaN     0.233072\n",
       "16      NaN     0.233072\n",
       "17      NaN     0.233072\n",
       "18      NaN     0.233072\n",
       "19      NaN     0.233072\n",
       "20      NaN     0.233072"
      ]
     },
     "execution_count": 1127,
     "metadata": {},
     "output_type": "execute_result"
    }
   ],
   "source": [
    "predictions = pd.Series(predictions).rename('predictions')\n",
    "result = pd.concat([team_id, predictions], axis=1).reset_index(drop=True)\n",
    "#max(result['predictions'])\n",
    "result[result['predictions'] == max(result['predictions'])]"
   ]
  },
  {
   "cell_type": "code",
   "execution_count": 1128,
   "metadata": {},
   "outputs": [
    {
     "ename": "ValueError",
     "evalue": "continuous is not supported",
     "output_type": "error",
     "traceback": [
      "\u001b[1;31m---------------------------------------------------------------------------\u001b[0m",
      "\u001b[1;31mValueError\u001b[0m                                Traceback (most recent call last)",
      "\u001b[1;32m<ipython-input-1128-ed6ff289efd8>\u001b[0m in \u001b[0;36m<module>\u001b[1;34m\u001b[0m\n\u001b[1;32m----> 1\u001b[1;33m \u001b[0mprint\u001b[0m\u001b[1;33m(\u001b[0m\u001b[0maccuracy_score\u001b[0m\u001b[1;33m(\u001b[0m\u001b[0my_test\u001b[0m\u001b[1;33m,\u001b[0m\u001b[0mpredictions\u001b[0m\u001b[1;33m)\u001b[0m\u001b[1;33m)\u001b[0m\u001b[1;33m\u001b[0m\u001b[1;33m\u001b[0m\u001b[0m\n\u001b[0m",
      "\u001b[1;32m~\\AppData\\Local\\Continuum\\anaconda3\\lib\\site-packages\\sklearn\\metrics\\classification.py\u001b[0m in \u001b[0;36maccuracy_score\u001b[1;34m(y_true, y_pred, normalize, sample_weight)\u001b[0m\n\u001b[0;32m    174\u001b[0m \u001b[1;33m\u001b[0m\u001b[0m\n\u001b[0;32m    175\u001b[0m     \u001b[1;31m# Compute accuracy for each possible representation\u001b[0m\u001b[1;33m\u001b[0m\u001b[1;33m\u001b[0m\u001b[1;33m\u001b[0m\u001b[0m\n\u001b[1;32m--> 176\u001b[1;33m     \u001b[0my_type\u001b[0m\u001b[1;33m,\u001b[0m \u001b[0my_true\u001b[0m\u001b[1;33m,\u001b[0m \u001b[0my_pred\u001b[0m \u001b[1;33m=\u001b[0m \u001b[0m_check_targets\u001b[0m\u001b[1;33m(\u001b[0m\u001b[0my_true\u001b[0m\u001b[1;33m,\u001b[0m \u001b[0my_pred\u001b[0m\u001b[1;33m)\u001b[0m\u001b[1;33m\u001b[0m\u001b[1;33m\u001b[0m\u001b[0m\n\u001b[0m\u001b[0;32m    177\u001b[0m     \u001b[0mcheck_consistent_length\u001b[0m\u001b[1;33m(\u001b[0m\u001b[0my_true\u001b[0m\u001b[1;33m,\u001b[0m \u001b[0my_pred\u001b[0m\u001b[1;33m,\u001b[0m \u001b[0msample_weight\u001b[0m\u001b[1;33m)\u001b[0m\u001b[1;33m\u001b[0m\u001b[1;33m\u001b[0m\u001b[0m\n\u001b[0;32m    178\u001b[0m     \u001b[1;32mif\u001b[0m \u001b[0my_type\u001b[0m\u001b[1;33m.\u001b[0m\u001b[0mstartswith\u001b[0m\u001b[1;33m(\u001b[0m\u001b[1;34m'multilabel'\u001b[0m\u001b[1;33m)\u001b[0m\u001b[1;33m:\u001b[0m\u001b[1;33m\u001b[0m\u001b[1;33m\u001b[0m\u001b[0m\n",
      "\u001b[1;32m~\\AppData\\Local\\Continuum\\anaconda3\\lib\\site-packages\\sklearn\\metrics\\classification.py\u001b[0m in \u001b[0;36m_check_targets\u001b[1;34m(y_true, y_pred)\u001b[0m\n\u001b[0;32m     86\u001b[0m     \u001b[1;31m# No metrics support \"multiclass-multioutput\" format\u001b[0m\u001b[1;33m\u001b[0m\u001b[1;33m\u001b[0m\u001b[1;33m\u001b[0m\u001b[0m\n\u001b[0;32m     87\u001b[0m     \u001b[1;32mif\u001b[0m \u001b[1;33m(\u001b[0m\u001b[0my_type\u001b[0m \u001b[1;32mnot\u001b[0m \u001b[1;32min\u001b[0m \u001b[1;33m[\u001b[0m\u001b[1;34m\"binary\"\u001b[0m\u001b[1;33m,\u001b[0m \u001b[1;34m\"multiclass\"\u001b[0m\u001b[1;33m,\u001b[0m \u001b[1;34m\"multilabel-indicator\"\u001b[0m\u001b[1;33m]\u001b[0m\u001b[1;33m)\u001b[0m\u001b[1;33m:\u001b[0m\u001b[1;33m\u001b[0m\u001b[1;33m\u001b[0m\u001b[0m\n\u001b[1;32m---> 88\u001b[1;33m         \u001b[1;32mraise\u001b[0m \u001b[0mValueError\u001b[0m\u001b[1;33m(\u001b[0m\u001b[1;34m\"{0} is not supported\"\u001b[0m\u001b[1;33m.\u001b[0m\u001b[0mformat\u001b[0m\u001b[1;33m(\u001b[0m\u001b[0my_type\u001b[0m\u001b[1;33m)\u001b[0m\u001b[1;33m)\u001b[0m\u001b[1;33m\u001b[0m\u001b[1;33m\u001b[0m\u001b[0m\n\u001b[0m\u001b[0;32m     89\u001b[0m \u001b[1;33m\u001b[0m\u001b[0m\n\u001b[0;32m     90\u001b[0m     \u001b[1;32mif\u001b[0m \u001b[0my_type\u001b[0m \u001b[1;32min\u001b[0m \u001b[1;33m[\u001b[0m\u001b[1;34m\"binary\"\u001b[0m\u001b[1;33m,\u001b[0m \u001b[1;34m\"multiclass\"\u001b[0m\u001b[1;33m]\u001b[0m\u001b[1;33m:\u001b[0m\u001b[1;33m\u001b[0m\u001b[1;33m\u001b[0m\u001b[0m\n",
      "\u001b[1;31mValueError\u001b[0m: continuous is not supported"
     ]
    }
   ],
   "source": [
    "print(accuracy_score(y_test,predictions))"
   ]
  },
  {
   "cell_type": "code",
   "execution_count": 945,
   "metadata": {},
   "outputs": [
    {
     "data": {
      "text/plain": [
       "'U Mumba'"
      ]
     },
     "execution_count": 945,
     "metadata": {},
     "output_type": "execute_result"
    }
   ],
   "source": [
    "data_stats[data_stats['team_id'] == 5]['team_name'].iloc[0]"
   ]
  },
  {
   "cell_type": "markdown",
   "metadata": {},
   "source": [
    "# Winner is 'Patna Pirates'"
   ]
  },
  {
   "cell_type": "markdown",
   "metadata": {},
   "source": [
    "# Calculate top team in total points"
   ]
  },
  {
   "cell_type": "code",
   "execution_count": 51,
   "metadata": {},
   "outputs": [],
   "source": [
    "Y = train_df['points']\n",
    "X = train_df.drop(['points'], axis = 1)"
   ]
  },
  {
   "cell_type": "code",
   "execution_count": 52,
   "metadata": {},
   "outputs": [],
   "source": [
    "X_train, X_test, y_train, y_test = train_test_split(X, Y, test_size=0.30, random_state=101)\n",
    "not_to_scale = ['captain_id', 'coach_id', 'highest_score.team_id', 'player_team', 'series_id', 'top_allrounder_id','top_defender_id', 'team_id', 'top_raider_id', 'rank', 'points']\n",
    "to_scale = [item for item in list(train_df.columns) if item not in not_to_scale]\n",
    "scaler = StandardScaler()\n",
    "X_train[to_scale] = scaler.fit_transform(X_train[to_scale])\n",
    "X_test[to_scale] = scaler.transform(X_test[to_scale])"
   ]
  },
  {
   "cell_type": "code",
   "execution_count": 53,
   "metadata": {},
   "outputs": [],
   "source": [
    "model1=sm.OLS(y_train,X_train)"
   ]
  },
  {
   "cell_type": "code",
   "execution_count": 54,
   "metadata": {},
   "outputs": [
    {
     "name": "stdout",
     "output_type": "stream",
     "text": [
      "                                 OLS Regression Results                                \n",
      "=======================================================================================\n",
      "Dep. Variable:                 points   R-squared (uncentered):                   0.999\n",
      "Model:                            OLS   Adj. R-squared (uncentered):              0.988\n",
      "Method:                 Least Squares   F-statistic:                              90.85\n",
      "Date:                Wed, 02 Oct 2019   Prob (F-statistic):                    0.000250\n",
      "Time:                        12:01:53   Log-Likelihood:                         -93.439\n",
      "No. Observations:                  47   AIC:                                      272.9\n",
      "Df Residuals:                       4   BIC:                                      352.4\n",
      "Df Model:                          43                                                  \n",
      "Covariance Type:            nonrobust                                                  \n",
      "=================================================================================================\n",
      "                                    coef    std err          t      P>|t|      [0.025      0.975]\n",
      "-------------------------------------------------------------------------------------------------\n",
      "all_out_points                    3.8736      3.781      1.025      0.364      -6.624      14.371\n",
      "all_outs                          3.8736      3.781      1.025      0.364      -6.624      14.371\n",
      "captain_id                        0.0127      0.014      0.917      0.411      -0.026       0.051\n",
      "coach_id                          0.0029      0.002      1.373      0.242      -0.003       0.009\n",
      "defence_touch_points              5.6788     53.025      0.107      0.920    -141.542     152.899\n",
      "defending_bonus_points           -3.1206     10.427     -0.299      0.780     -32.069      25.828\n",
      "draws                            -2.6205      5.299     -0.495      0.647     -17.333      12.092\n",
      "empty_raid                       21.2442     13.712      1.549      0.196     -16.827      59.315\n",
      "extra_points                     -2.6073      4.983     -0.523      0.628     -16.442      11.227\n",
      "green_cards                      -3.7872      2.779     -1.363      0.245     -11.502       3.928\n",
      "highest_score.highest_score      -0.6509      5.751     -0.113      0.915     -16.618      15.317\n",
      "highest_score.match_id          -43.4482     50.992     -0.852      0.442    -185.025      98.128\n",
      "highest_score.team_id             0.0370      0.389      0.095      0.929      -1.042       1.116\n",
      "highest_score.venue_id           -1.9000      4.318     -0.440      0.683     -13.888      10.088\n",
      "losses                           -3.5055      7.834     -0.447      0.678     -25.257      18.246\n",
      "matches                           6.8118     18.995      0.359      0.738     -45.927      59.551\n",
      "max_win_margin.match_id          -1.3518     46.859     -0.029      0.978    -131.453     128.750\n",
      "max_win_margin.max_win_margin     3.5035      4.818      0.727      0.507      -9.874      16.881\n",
      "max_win_margin.team1_id          -0.0108      3.493     -0.003      0.998      -9.708       9.686\n",
      "max_win_margin.team1_score       -7.5689      6.257     -1.210      0.293     -24.940       9.803\n",
      "max_win_margin.team2_id           7.9897      6.865      1.164      0.309     -11.070      27.049\n",
      "max_win_margin.team2_score       -5.4686      4.460     -1.226      0.287     -17.851       6.914\n",
      "max_win_margin.venue_id           2.1937      2.948      0.744      0.498      -5.992      10.380\n",
      "player_team                   -4.268e-13    1.5e-12     -0.284      0.790   -4.59e-12    3.74e-12\n",
      "raid_bonus_points                -3.1365      7.344     -0.427      0.691     -23.527      17.254\n",
      "raid_touch_points                -9.6365     18.319     -0.526      0.627     -60.499      41.226\n",
      "raids                             5.9701     13.880      0.430      0.689     -32.566      44.506\n",
      "rank                              1.7325      3.822      0.453      0.674      -8.880      12.345\n",
      "red_cards                        -0.1210      2.457     -0.049      0.963      -6.942       6.700\n",
      "score_difference                  1.7595      3.257      0.540      0.618      -7.283      10.802\n",
      "series_id                         2.4713      0.775      3.187      0.033       0.318       4.624\n",
      "success_raid_percent             20.6858     14.332      1.443      0.222     -19.106      60.478\n",
      "success_raids                   -11.0923     21.355     -0.519      0.631     -70.384      48.200\n",
      "success_tackles                 -37.6560    129.454     -0.291      0.786    -397.078     321.766\n",
      "super_raids                       1.8600      4.818      0.386      0.719     -11.517      15.237\n",
      "super_tackles                    -3.1206     10.427     -0.299      0.780     -32.069      25.828\n",
      "tackle_points                     5.6788     53.025      0.107      0.920    -141.542     152.899\n",
      "tackle_success_rate              13.8314     11.589      1.193      0.299     -18.346      46.008\n",
      "tackles                          -4.7823     42.903     -0.111      0.917    -123.900     114.335\n",
      "team_id                          -0.4269      0.640     -0.667      0.541      -2.205       1.351\n",
      "top_all_rounder_value             2.2238      2.874      0.774      0.482      -5.755      10.202\n",
      "top_allrounder_id                 0.0015      0.009      0.165      0.877      -0.024       0.027\n",
      "top_defender_id                   0.0044      0.020      0.221      0.836      -0.051       0.060\n",
      "top_defender_value                5.6872      3.566      1.595      0.186      -4.213      15.587\n",
      "top_raider_id                     0.0061      0.005      1.351      0.248      -0.006       0.019\n",
      "top_raider_value                  0.4122      7.584      0.054      0.959     -20.645      21.469\n",
      "total_defending_points            5.6788     53.025      0.107      0.920    -141.542     152.899\n",
      "total_raid_points                -8.3014     15.183     -0.547      0.614     -50.456      33.853\n",
      "unsuccesful_tackles              18.2344     24.707      0.738      0.501     -50.364      86.833\n",
      "unsuccess_raids                   2.1373     10.884      0.196      0.854     -28.081      32.356\n",
      "wins                             10.8612     11.457      0.948      0.397     -20.948      42.670\n",
      "yellow_cards                     -1.2214      2.654     -0.460      0.669      -8.591       6.149\n",
      "==============================================================================\n",
      "Omnibus:                        1.476   Durbin-Watson:                   1.533\n",
      "Prob(Omnibus):                  0.478   Jarque-Bera (JB):                1.329\n",
      "Skew:                          -0.397   Prob(JB):                        0.515\n",
      "Kurtosis:                       2.778   Cond. No.                     1.44e+16\n",
      "==============================================================================\n",
      "\n",
      "Warnings:\n",
      "[1] Standard Errors assume that the covariance matrix of the errors is correctly specified.\n",
      "[2] The input rank is higher than the number of observations.\n",
      "[3] The smallest eigenvalue is 5.38e-25. This might indicate that there are\n",
      "strong multicollinearity problems or that the design matrix is singular.\n"
     ]
    }
   ],
   "source": [
    "result=model1.fit()\n",
    "\n",
    "print(result.summary())"
   ]
  },
  {
   "cell_type": "code",
   "execution_count": 55,
   "metadata": {},
   "outputs": [],
   "source": [
    "model = LinearRegression()\n",
    "reg = LinearRegression().fit(X_train, y_train)"
   ]
  },
  {
   "cell_type": "code",
   "execution_count": 56,
   "metadata": {},
   "outputs": [
    {
     "data": {
      "text/plain": [
       "0.827963921018922"
      ]
     },
     "execution_count": 56,
     "metadata": {},
     "output_type": "execute_result"
    }
   ],
   "source": [
    "reg.score(X_test, y_test)"
   ]
  },
  {
   "cell_type": "markdown",
   "metadata": {},
   "source": [
    "This seems like linear model gives a very good score"
   ]
  },
  {
   "cell_type": "code",
   "execution_count": 57,
   "metadata": {},
   "outputs": [],
   "source": [
    "predicted_points = reg.predict(X_test)"
   ]
  },
  {
   "cell_type": "code",
   "execution_count": 58,
   "metadata": {},
   "outputs": [
    {
     "data": {
      "text/html": [
       "<div>\n",
       "<style scoped>\n",
       "    .dataframe tbody tr th:only-of-type {\n",
       "        vertical-align: middle;\n",
       "    }\n",
       "\n",
       "    .dataframe tbody tr th {\n",
       "        vertical-align: top;\n",
       "    }\n",
       "\n",
       "    .dataframe thead th {\n",
       "        text-align: right;\n",
       "    }\n",
       "</style>\n",
       "<table border=\"1\" class=\"dataframe\">\n",
       "  <thead>\n",
       "    <tr style=\"text-align: right;\">\n",
       "      <th></th>\n",
       "      <th>team_id</th>\n",
       "      <th>predicted_points</th>\n",
       "    </tr>\n",
       "  </thead>\n",
       "  <tbody>\n",
       "    <tr>\n",
       "      <th>5</th>\n",
       "      <td>3.0</td>\n",
       "      <td>79.960392</td>\n",
       "    </tr>\n",
       "    <tr>\n",
       "      <th>10</th>\n",
       "      <td>5.0</td>\n",
       "      <td>66.596902</td>\n",
       "    </tr>\n",
       "    <tr>\n",
       "      <th>9</th>\n",
       "      <td>8.0</td>\n",
       "      <td>65.449058</td>\n",
       "    </tr>\n",
       "    <tr>\n",
       "      <th>14</th>\n",
       "      <td>NaN</td>\n",
       "      <td>59.766602</td>\n",
       "    </tr>\n",
       "    <tr>\n",
       "      <th>2</th>\n",
       "      <td>2.0</td>\n",
       "      <td>58.654284</td>\n",
       "    </tr>\n",
       "    <tr>\n",
       "      <th>13</th>\n",
       "      <td>NaN</td>\n",
       "      <td>55.869676</td>\n",
       "    </tr>\n",
       "    <tr>\n",
       "      <th>17</th>\n",
       "      <td>NaN</td>\n",
       "      <td>54.036886</td>\n",
       "    </tr>\n",
       "    <tr>\n",
       "      <th>3</th>\n",
       "      <td>31.0</td>\n",
       "      <td>51.211457</td>\n",
       "    </tr>\n",
       "    <tr>\n",
       "      <th>0</th>\n",
       "      <td>4.0</td>\n",
       "      <td>48.709330</td>\n",
       "    </tr>\n",
       "    <tr>\n",
       "      <th>7</th>\n",
       "      <td>7.0</td>\n",
       "      <td>48.552633</td>\n",
       "    </tr>\n",
       "    <tr>\n",
       "      <th>1</th>\n",
       "      <td>1.0</td>\n",
       "      <td>46.541429</td>\n",
       "    </tr>\n",
       "    <tr>\n",
       "      <th>18</th>\n",
       "      <td>NaN</td>\n",
       "      <td>44.354934</td>\n",
       "    </tr>\n",
       "    <tr>\n",
       "      <th>16</th>\n",
       "      <td>NaN</td>\n",
       "      <td>40.657911</td>\n",
       "    </tr>\n",
       "    <tr>\n",
       "      <th>11</th>\n",
       "      <td>30.0</td>\n",
       "      <td>32.010418</td>\n",
       "    </tr>\n",
       "    <tr>\n",
       "      <th>6</th>\n",
       "      <td>6.0</td>\n",
       "      <td>31.197987</td>\n",
       "    </tr>\n",
       "    <tr>\n",
       "      <th>4</th>\n",
       "      <td>28.0</td>\n",
       "      <td>25.734956</td>\n",
       "    </tr>\n",
       "    <tr>\n",
       "      <th>15</th>\n",
       "      <td>NaN</td>\n",
       "      <td>25.287842</td>\n",
       "    </tr>\n",
       "    <tr>\n",
       "      <th>20</th>\n",
       "      <td>NaN</td>\n",
       "      <td>23.480881</td>\n",
       "    </tr>\n",
       "    <tr>\n",
       "      <th>12</th>\n",
       "      <td>NaN</td>\n",
       "      <td>20.871896</td>\n",
       "    </tr>\n",
       "    <tr>\n",
       "      <th>8</th>\n",
       "      <td>29.0</td>\n",
       "      <td>17.346243</td>\n",
       "    </tr>\n",
       "    <tr>\n",
       "      <th>19</th>\n",
       "      <td>NaN</td>\n",
       "      <td>13.023446</td>\n",
       "    </tr>\n",
       "  </tbody>\n",
       "</table>\n",
       "</div>"
      ],
      "text/plain": [
       "    team_id  predicted_points\n",
       "5       3.0         79.960392\n",
       "10      5.0         66.596902\n",
       "9       8.0         65.449058\n",
       "14      NaN         59.766602\n",
       "2       2.0         58.654284\n",
       "13      NaN         55.869676\n",
       "17      NaN         54.036886\n",
       "3      31.0         51.211457\n",
       "0       4.0         48.709330\n",
       "7       7.0         48.552633\n",
       "1       1.0         46.541429\n",
       "18      NaN         44.354934\n",
       "16      NaN         40.657911\n",
       "11     30.0         32.010418\n",
       "6       6.0         31.197987\n",
       "4      28.0         25.734956\n",
       "15      NaN         25.287842\n",
       "20      NaN         23.480881\n",
       "12      NaN         20.871896\n",
       "8      29.0         17.346243\n",
       "19      NaN         13.023446"
      ]
     },
     "execution_count": 58,
     "metadata": {},
     "output_type": "execute_result"
    }
   ],
   "source": [
    "predicted_points = pd.Series(predicted_points).rename('predicted_points')\n",
    "result = pd.concat([team_id, predicted_points], axis=1).reset_index(drop=True)\n",
    "result.sort_values(by=['predicted_points'], ascending=False)"
   ]
  },
  {
   "cell_type": "code",
   "execution_count": 59,
   "metadata": {},
   "outputs": [
    {
     "data": {
      "text/plain": [
       "'Gujarat Fortunegiants'"
      ]
     },
     "execution_count": 59,
     "metadata": {},
     "output_type": "execute_result"
    }
   ],
   "source": [
    "data_stats[data_stats['team_id'] == 31]['team_name'].iloc[0]"
   ]
  },
  {
   "cell_type": "markdown",
   "metadata": {},
   "source": [
    "# Team with max total points is Gujarat Fortunegiants"
   ]
  },
  {
   "cell_type": "markdown",
   "metadata": {},
   "source": [
    "# Question 3:- team with the highest points for successful raids"
   ]
  },
  {
   "cell_type": "code",
   "execution_count": 60,
   "metadata": {},
   "outputs": [],
   "source": [
    "Y = train_df['success_raids']\n",
    "X = train_df.drop(['success_raids'], axis = 1)"
   ]
  },
  {
   "cell_type": "code",
   "execution_count": 61,
   "metadata": {},
   "outputs": [],
   "source": [
    "X_train, X_test, y_train, y_test = train_test_split(X, Y, test_size=0.30, random_state=101)\n",
    "not_to_scale = ['captain_id', 'coach_id', 'highest_score.team_id', 'player_team', 'series_id', 'top_allrounder_id','top_defender_id', 'team_id', 'top_raider_id', 'rank', 'success_raids']\n",
    "to_scale = [item for item in list(train_df.columns) if item not in not_to_scale]\n",
    "scaler = StandardScaler()\n",
    "X_train[to_scale] = scaler.fit_transform(X_train[to_scale])\n",
    "X_test[to_scale] = scaler.transform(X_test[to_scale])"
   ]
  },
  {
   "cell_type": "code",
   "execution_count": 62,
   "metadata": {},
   "outputs": [],
   "source": [
    "model1=sm.OLS(y_train,X_train)"
   ]
  },
  {
   "cell_type": "code",
   "execution_count": 63,
   "metadata": {},
   "outputs": [
    {
     "name": "stdout",
     "output_type": "stream",
     "text": [
      "                                 OLS Regression Results                                \n",
      "=======================================================================================\n",
      "Dep. Variable:          success_raids   R-squared (uncentered):                   0.999\n",
      "Model:                            OLS   Adj. R-squared (uncentered):              0.983\n",
      "Method:                 Least Squares   F-statistic:                              64.38\n",
      "Date:                Wed, 02 Oct 2019   Prob (F-statistic):                     0.00268\n",
      "Time:                        12:01:56   Log-Likelihood:                         -172.10\n",
      "No. Observations:                  47   AIC:                                      432.2\n",
      "Df Residuals:                       3   BIC:                                      513.6\n",
      "Df Model:                          44                                                  \n",
      "Covariance Type:            nonrobust                                                  \n",
      "=================================================================================================\n",
      "                                    coef    std err          t      P>|t|      [0.025      0.975]\n",
      "-------------------------------------------------------------------------------------------------\n",
      "all_out_points                   20.9467     23.412      0.895      0.437     -53.560      95.453\n",
      "all_outs                         20.9467     23.412      0.895      0.437     -53.560      95.453\n",
      "captain_id                        0.0648      0.091      0.716      0.526      -0.223       0.353\n",
      "coach_id                          0.0145      0.015      0.977      0.401      -0.033       0.062\n",
      "defence_touch_points             10.3933    379.728      0.027      0.980   -1198.070    1218.856\n",
      "defending_bonus_points          -12.3224     76.857     -0.160      0.883    -256.915     232.270\n",
      "draws                           -14.2748     32.736     -0.436      0.692    -118.456      89.906\n",
      "empty_raid                       87.8058    173.878      0.505      0.648    -465.552     641.163\n",
      "extra_points                    -13.8925     30.677     -0.453      0.681    -111.521      83.736\n",
      "green_cards                     -18.5520     23.629     -0.785      0.490     -93.750      56.646\n",
      "highest_score.highest_score      -4.5627     36.949     -0.123      0.910    -122.151     113.026\n",
      "highest_score.match_id         -222.7500    326.715     -0.682      0.544   -1262.504     817.004\n",
      "highest_score.team_id             0.1378      2.464      0.056      0.959      -7.702       7.978\n",
      "highest_score.venue_id           -8.3260     31.949     -0.261      0.811    -110.001      93.349\n",
      "losses                          -17.6080     49.435     -0.356      0.745    -174.933     139.717\n",
      "matches                          28.2042    141.441      0.199      0.855    -421.924     478.333\n",
      "max_win_margin.match_id         -12.6318    293.247     -0.043      0.968    -945.875     920.612\n",
      "max_win_margin.max_win_margin    17.7963     30.971      0.575      0.606     -80.767     116.359\n",
      "max_win_margin.team1_id          -0.8153     22.730     -0.036      0.974     -73.154      71.523\n",
      "max_win_margin.team1_score      -35.8321     58.997     -0.607      0.587    -223.586     151.922\n",
      "max_win_margin.team2_id          40.0703     49.266      0.813      0.476    -116.716     196.856\n",
      "max_win_margin.team2_score      -26.4641     38.294     -0.691      0.539    -148.331      95.403\n",
      "max_win_margin.venue_id          10.7767     20.324      0.530      0.633     -53.902      75.456\n",
      "player_team                    4.853e-13   2.73e-12      0.178      0.870   -8.19e-12    9.16e-12\n",
      "points                          -77.6645    168.917     -0.460      0.677    -615.233     459.904\n",
      "raid_bonus_points               -14.4976     50.252     -0.288      0.792    -174.420     145.425\n",
      "raid_touch_points               -48.6565    116.049     -0.419      0.703    -417.976     320.663\n",
      "raids                            67.3299    376.840      0.179      0.870   -1131.943    1266.603\n",
      "rank                             10.2722     25.535      0.402      0.714     -70.991      91.535\n",
      "red_cards                        -0.9373     15.389     -0.061      0.955     -49.911      48.036\n",
      "score_difference                 10.2486     21.695      0.472      0.669     -58.793      79.290\n",
      "series_id                        12.9325      5.434      2.380      0.098      -4.361      30.226\n",
      "success_raid_percent            101.5058    124.146      0.818      0.473    -293.582     496.593\n",
      "success_tackles                -149.1768    943.699     -0.158      0.884   -3152.448    2854.094\n",
      "super_raids                      10.4599     30.100      0.348      0.751     -85.332     106.251\n",
      "super_tackles                   -12.3224     76.857     -0.160      0.883    -256.915     232.270\n",
      "tackle_points                    10.3933    379.728      0.027      0.980   -1198.070    1218.856\n",
      "tackle_success_rate              73.5260     71.427      1.029      0.379    -153.788     300.840\n",
      "tackles                          -8.1113    313.888     -0.026      0.981   -1007.043     990.820\n",
      "team_id                          -2.0374      4.595     -0.443      0.687     -16.660      12.585\n",
      "top_all_rounder_value            11.2747     18.637      0.605      0.588     -48.036      70.585\n",
      "top_allrounder_id                 0.0104      0.061      0.171      0.875      -0.183       0.203\n",
      "top_defender_id                   0.0260      0.125      0.208      0.849      -0.372       0.424\n",
      "top_defender_value               28.8007     26.766      1.076      0.361     -56.382     113.983\n",
      "top_raider_id                     0.0300      0.039      0.777      0.494      -0.093       0.153\n",
      "top_raider_value                  3.5627     48.533      0.073      0.946    -150.891     158.016\n",
      "total_defending_points           10.3933    379.728      0.027      0.980   -1198.070    1218.856\n",
      "total_raid_points               -41.5082     97.440     -0.426      0.699    -351.605     268.588\n",
      "unsuccesful_tackles              88.4903    175.022      0.506      0.648    -468.509     645.490\n",
      "unsuccess_raids                   1.7647     54.270      0.033      0.976    -170.946     174.475\n",
      "wins                             48.9452    112.927      0.433      0.694    -310.438     408.328\n",
      "yellow_cards                     -5.2952     20.245     -0.262      0.811     -69.725      59.135\n",
      "==============================================================================\n",
      "Omnibus:                        1.467   Durbin-Watson:                   1.548\n",
      "Prob(Omnibus):                  0.480   Jarque-Bera (JB):                1.299\n",
      "Skew:                          -0.395   Prob(JB):                        0.522\n",
      "Kurtosis:                       2.799   Cond. No.                     1.44e+16\n",
      "==============================================================================\n",
      "\n",
      "Warnings:\n",
      "[1] Standard Errors assume that the covariance matrix of the errors is correctly specified.\n",
      "[2] The input rank is higher than the number of observations.\n",
      "[3] The smallest eigenvalue is 5.38e-25. This might indicate that there are\n",
      "strong multicollinearity problems or that the design matrix is singular.\n"
     ]
    }
   ],
   "source": [
    "result=model1.fit()\n",
    "\n",
    "print(result.summary())"
   ]
  },
  {
   "cell_type": "code",
   "execution_count": 64,
   "metadata": {},
   "outputs": [],
   "source": [
    "model = LinearRegression()\n",
    "reg = LinearRegression().fit(X_train, y_train)"
   ]
  },
  {
   "cell_type": "code",
   "execution_count": 65,
   "metadata": {},
   "outputs": [
    {
     "data": {
      "text/plain": [
       "1.0"
      ]
     },
     "execution_count": 65,
     "metadata": {},
     "output_type": "execute_result"
    }
   ],
   "source": [
    "reg.score(X_test, y_test)"
   ]
  },
  {
   "cell_type": "code",
   "execution_count": 66,
   "metadata": {},
   "outputs": [
    {
     "data": {
      "text/html": [
       "<div>\n",
       "<style scoped>\n",
       "    .dataframe tbody tr th:only-of-type {\n",
       "        vertical-align: middle;\n",
       "    }\n",
       "\n",
       "    .dataframe tbody tr th {\n",
       "        vertical-align: top;\n",
       "    }\n",
       "\n",
       "    .dataframe thead th {\n",
       "        text-align: right;\n",
       "    }\n",
       "</style>\n",
       "<table border=\"1\" class=\"dataframe\">\n",
       "  <thead>\n",
       "    <tr style=\"text-align: right;\">\n",
       "      <th></th>\n",
       "      <th>team_id</th>\n",
       "      <th>predicted_success_raids</th>\n",
       "    </tr>\n",
       "  </thead>\n",
       "  <tbody>\n",
       "    <tr>\n",
       "      <th>18</th>\n",
       "      <td>NaN</td>\n",
       "      <td>406.0</td>\n",
       "    </tr>\n",
       "    <tr>\n",
       "      <th>11</th>\n",
       "      <td>30.0</td>\n",
       "      <td>361.0</td>\n",
       "    </tr>\n",
       "    <tr>\n",
       "      <th>9</th>\n",
       "      <td>8.0</td>\n",
       "      <td>357.0</td>\n",
       "    </tr>\n",
       "    <tr>\n",
       "      <th>5</th>\n",
       "      <td>3.0</td>\n",
       "      <td>335.0</td>\n",
       "    </tr>\n",
       "    <tr>\n",
       "      <th>17</th>\n",
       "      <td>NaN</td>\n",
       "      <td>334.0</td>\n",
       "    </tr>\n",
       "    <tr>\n",
       "      <th>1</th>\n",
       "      <td>1.0</td>\n",
       "      <td>309.0</td>\n",
       "    </tr>\n",
       "    <tr>\n",
       "      <th>2</th>\n",
       "      <td>2.0</td>\n",
       "      <td>290.0</td>\n",
       "    </tr>\n",
       "    <tr>\n",
       "      <th>0</th>\n",
       "      <td>4.0</td>\n",
       "      <td>289.0</td>\n",
       "    </tr>\n",
       "    <tr>\n",
       "      <th>4</th>\n",
       "      <td>28.0</td>\n",
       "      <td>275.0</td>\n",
       "    </tr>\n",
       "    <tr>\n",
       "      <th>10</th>\n",
       "      <td>5.0</td>\n",
       "      <td>270.0</td>\n",
       "    </tr>\n",
       "    <tr>\n",
       "      <th>13</th>\n",
       "      <td>NaN</td>\n",
       "      <td>223.0</td>\n",
       "    </tr>\n",
       "    <tr>\n",
       "      <th>7</th>\n",
       "      <td>7.0</td>\n",
       "      <td>213.0</td>\n",
       "    </tr>\n",
       "    <tr>\n",
       "      <th>14</th>\n",
       "      <td>NaN</td>\n",
       "      <td>206.0</td>\n",
       "    </tr>\n",
       "    <tr>\n",
       "      <th>3</th>\n",
       "      <td>31.0</td>\n",
       "      <td>203.0</td>\n",
       "    </tr>\n",
       "    <tr>\n",
       "      <th>16</th>\n",
       "      <td>NaN</td>\n",
       "      <td>182.0</td>\n",
       "    </tr>\n",
       "    <tr>\n",
       "      <th>8</th>\n",
       "      <td>29.0</td>\n",
       "      <td>171.0</td>\n",
       "    </tr>\n",
       "    <tr>\n",
       "      <th>19</th>\n",
       "      <td>NaN</td>\n",
       "      <td>170.0</td>\n",
       "    </tr>\n",
       "    <tr>\n",
       "      <th>12</th>\n",
       "      <td>NaN</td>\n",
       "      <td>167.0</td>\n",
       "    </tr>\n",
       "    <tr>\n",
       "      <th>6</th>\n",
       "      <td>6.0</td>\n",
       "      <td>162.0</td>\n",
       "    </tr>\n",
       "    <tr>\n",
       "      <th>20</th>\n",
       "      <td>NaN</td>\n",
       "      <td>159.0</td>\n",
       "    </tr>\n",
       "    <tr>\n",
       "      <th>15</th>\n",
       "      <td>NaN</td>\n",
       "      <td>134.0</td>\n",
       "    </tr>\n",
       "  </tbody>\n",
       "</table>\n",
       "</div>"
      ],
      "text/plain": [
       "    team_id  predicted_success_raids\n",
       "18      NaN                    406.0\n",
       "11     30.0                    361.0\n",
       "9       8.0                    357.0\n",
       "5       3.0                    335.0\n",
       "17      NaN                    334.0\n",
       "1       1.0                    309.0\n",
       "2       2.0                    290.0\n",
       "0       4.0                    289.0\n",
       "4      28.0                    275.0\n",
       "10      5.0                    270.0\n",
       "13      NaN                    223.0\n",
       "7       7.0                    213.0\n",
       "14      NaN                    206.0\n",
       "3      31.0                    203.0\n",
       "16      NaN                    182.0\n",
       "8      29.0                    171.0\n",
       "19      NaN                    170.0\n",
       "12      NaN                    167.0\n",
       "6       6.0                    162.0\n",
       "20      NaN                    159.0\n",
       "15      NaN                    134.0"
      ]
     },
     "execution_count": 66,
     "metadata": {},
     "output_type": "execute_result"
    }
   ],
   "source": [
    "predicted_success_raids = reg.predict(X_test)\n",
    "predicted_success_raids = pd.Series(predicted_success_raids).rename('predicted_success_raids')\n",
    "result = pd.concat([team_id, predicted_success_raids], axis=1).reset_index(drop=True)\n",
    "result.sort_values(by=['predicted_success_raids'], ascending=False)"
   ]
  },
  {
   "cell_type": "code",
   "execution_count": 67,
   "metadata": {},
   "outputs": [
    {
     "data": {
      "text/plain": [
       "'Patna Pirates'"
      ]
     },
     "execution_count": 67,
     "metadata": {},
     "output_type": "execute_result"
    }
   ],
   "source": [
    "data_stats[data_stats['team_id'] == 6]['team_name'].iloc[0]"
   ]
  },
  {
   "cell_type": "markdown",
   "metadata": {},
   "source": [
    "# Team with max total points is Patna Pirates"
   ]
  },
  {
   "cell_type": "markdown",
   "metadata": {},
   "source": [
    "# Question 4:- team with the highest points for successful tackles"
   ]
  },
  {
   "cell_type": "code",
   "execution_count": 68,
   "metadata": {},
   "outputs": [],
   "source": [
    "Y = train_df['success_tackles']\n",
    "X = train_df.drop(['success_tackles'], axis = 1)\n",
    "X_train, X_test, y_train, y_test = train_test_split(X, Y, test_size=0.30, random_state=101)\n",
    "not_to_scale = ['captain_id', 'coach_id', 'highest_score.team_id', 'player_team', 'series_id', 'top_allrounder_id','top_defender_id', 'team_id', 'top_raider_id', 'rank', 'success_tackles']\n",
    "to_scale = [item for item in list(train_df.columns) if item not in not_to_scale]\n",
    "scaler = StandardScaler()\n",
    "X_train[to_scale] = scaler.fit_transform(X_train[to_scale])\n",
    "X_test[to_scale] = scaler.transform(X_test[to_scale])"
   ]
  },
  {
   "cell_type": "code",
   "execution_count": 69,
   "metadata": {},
   "outputs": [],
   "source": [
    "model1=sm.OLS(y_train,X_train)"
   ]
  },
  {
   "cell_type": "code",
   "execution_count": 70,
   "metadata": {},
   "outputs": [
    {
     "name": "stdout",
     "output_type": "stream",
     "text": [
      "                                 OLS Regression Results                                \n",
      "=======================================================================================\n",
      "Dep. Variable:        success_tackles   R-squared (uncentered):                   0.999\n",
      "Model:                            OLS   Adj. R-squared (uncentered):              0.983\n",
      "Method:                 Least Squares   F-statistic:                              63.73\n",
      "Date:                Wed, 02 Oct 2019   Prob (F-statistic):                     0.00272\n",
      "Time:                        12:01:58   Log-Likelihood:                         -147.82\n",
      "No. Observations:                  47   AIC:                                      383.6\n",
      "Df Residuals:                       3   BIC:                                      465.1\n",
      "Df Model:                          44                                                  \n",
      "Covariance Type:            nonrobust                                                  \n",
      "=================================================================================================\n",
      "                                    coef    std err          t      P>|t|      [0.025      0.975]\n",
      "-------------------------------------------------------------------------------------------------\n",
      "all_out_points                   12.4965     13.967      0.895      0.437     -31.953      56.946\n",
      "all_outs                         12.4965     13.967      0.895      0.437     -31.953      56.946\n",
      "captain_id                        0.0387      0.054      0.716      0.526      -0.133       0.211\n",
      "coach_id                          0.0087      0.009      0.977      0.401      -0.020       0.037\n",
      "defence_touch_points              6.2005    226.541      0.027      0.980    -714.753     727.154\n",
      "defending_bonus_points           -7.3514     45.852     -0.160      0.883    -153.272     138.569\n",
      "draws                            -8.5162     19.530     -0.436      0.692     -70.669      53.637\n",
      "empty_raid                       63.7430     63.341      1.006      0.388    -137.836     265.322\n",
      "extra_points                     -8.2881     18.302     -0.453      0.681     -66.532      49.956\n",
      "green_cards                     -11.0679     14.097     -0.785      0.490     -55.930      33.794\n",
      "highest_score.highest_score      -2.7220     22.043     -0.123      0.910     -72.874      67.430\n",
      "highest_score.match_id         -132.8899    194.914     -0.682      0.544    -753.194     487.414\n",
      "highest_score.team_id             0.0822      1.470      0.056      0.959      -4.595       4.759\n",
      "highest_score.venue_id           -4.9672     19.060     -0.261      0.811     -65.625      55.691\n",
      "losses                          -10.5047     29.492     -0.356      0.745    -104.363      83.353\n",
      "matches                          16.8263     84.382      0.199      0.855    -251.715     285.367\n",
      "max_win_margin.match_id          -7.5360    174.948     -0.043      0.968    -564.297     549.225\n",
      "max_win_margin.max_win_margin    10.6170     18.477      0.575      0.606     -48.185      69.419\n",
      "max_win_margin.team1_id          -0.4864     13.561     -0.036      0.974     -43.643      42.670\n",
      "max_win_margin.team1_score      -21.3770     35.197     -0.607      0.587    -133.389      90.635\n",
      "max_win_margin.team2_id          23.9054     29.391      0.813      0.476     -69.631     117.442\n",
      "max_win_margin.team2_score      -15.7882     22.845     -0.691      0.539     -88.493      56.916\n",
      "max_win_margin.venue_id           6.4293     12.125      0.530      0.633     -32.157      45.016\n",
      "player_team                   -3.759e-12   3.82e-11     -0.098      0.928   -1.25e-10    1.18e-10\n",
      "points                          -46.3337    100.774     -0.460      0.677    -367.040     274.373\n",
      "raid_bonus_points                -8.6491     29.979     -0.288      0.792    -104.057      86.759\n",
      "raid_touch_points               -29.0279     69.233     -0.419      0.703    -249.359     191.303\n",
      "raids                            16.8804     55.074      0.307      0.779    -158.391     192.152\n",
      "rank                              6.1283     15.234      0.402      0.714     -42.352      54.609\n",
      "red_cards                        -0.5592      9.181     -0.061      0.955     -29.776      28.658\n",
      "score_difference                  6.1142     12.943      0.472      0.669     -35.075      47.304\n",
      "series_id                         7.7154      3.242      2.380      0.098      -2.602      18.032\n",
      "success_raid_percent             60.5571     74.064      0.818      0.473    -175.147     296.261\n",
      "success_raids                   -35.4513     78.441     -0.452      0.682    -285.086     214.183\n",
      "super_raids                       6.2402     17.957      0.348      0.751     -50.908      63.388\n",
      "super_tackles                    -7.3514     45.852     -0.160      0.883    -153.272     138.569\n",
      "tackle_points                     6.2005    226.541      0.027      0.980    -714.753     727.154\n",
      "tackle_success_rate              43.8647     42.613      1.029      0.379     -91.748     179.477\n",
      "tackles                        -108.9059   1438.146     -0.076      0.944   -4685.728    4467.916\n",
      "team_id                          -1.2155      2.741     -0.443      0.687      -9.939       7.508\n",
      "top_all_rounder_value             6.7263     11.118      0.605      0.588     -28.657      42.110\n",
      "top_allrounder_id                 0.0062      0.036      0.171      0.875      -0.109       0.121\n",
      "top_defender_id                   0.0155      0.075      0.208      0.849      -0.222       0.253\n",
      "top_defender_value               17.1821     15.968      1.076      0.361     -33.637      68.001\n",
      "top_raider_id                     0.0179      0.023      0.777      0.494      -0.055       0.091\n",
      "top_raider_value                  2.1255     28.954      0.073      0.946     -90.020      94.271\n",
      "total_defending_points            6.2005    226.541      0.027      0.980    -714.753     727.154\n",
      "total_raid_points               -24.7633     58.131     -0.426      0.699    -209.763     160.236\n",
      "unsuccesful_tackles             122.1599    935.221      0.131      0.904   -2854.131    3098.451\n",
      "unsuccess_raids                   6.0142     40.717      0.148      0.892    -123.567     135.595\n",
      "wins                             29.2001     67.371      0.433      0.694    -185.203     243.603\n",
      "yellow_cards                     -3.1590     12.078     -0.262      0.811     -41.597      35.279\n",
      "==============================================================================\n",
      "Omnibus:                        1.467   Durbin-Watson:                   1.548\n",
      "Prob(Omnibus):                  0.480   Jarque-Bera (JB):                1.299\n",
      "Skew:                          -0.395   Prob(JB):                        0.522\n",
      "Kurtosis:                       2.799   Cond. No.                     1.44e+16\n",
      "==============================================================================\n",
      "\n",
      "Warnings:\n",
      "[1] Standard Errors assume that the covariance matrix of the errors is correctly specified.\n",
      "[2] The input rank is higher than the number of observations.\n",
      "[3] The smallest eigenvalue is 5.38e-25. This might indicate that there are\n",
      "strong multicollinearity problems or that the design matrix is singular.\n"
     ]
    }
   ],
   "source": [
    "result=model1.fit()\n",
    "\n",
    "print(result.summary())"
   ]
  },
  {
   "cell_type": "code",
   "execution_count": 71,
   "metadata": {},
   "outputs": [
    {
     "data": {
      "text/plain": [
       "1.0"
      ]
     },
     "execution_count": 71,
     "metadata": {},
     "output_type": "execute_result"
    }
   ],
   "source": [
    "model = LinearRegression()\n",
    "reg = LinearRegression().fit(X_train, y_train)\n",
    "reg.score(X_test, y_test)"
   ]
  },
  {
   "cell_type": "code",
   "execution_count": 72,
   "metadata": {},
   "outputs": [
    {
     "data": {
      "text/html": [
       "<div>\n",
       "<style scoped>\n",
       "    .dataframe tbody tr th:only-of-type {\n",
       "        vertical-align: middle;\n",
       "    }\n",
       "\n",
       "    .dataframe tbody tr th {\n",
       "        vertical-align: top;\n",
       "    }\n",
       "\n",
       "    .dataframe thead th {\n",
       "        text-align: right;\n",
       "    }\n",
       "</style>\n",
       "<table border=\"1\" class=\"dataframe\">\n",
       "  <thead>\n",
       "    <tr style=\"text-align: right;\">\n",
       "      <th></th>\n",
       "      <th>team_id</th>\n",
       "      <th>predicted_success_tackles</th>\n",
       "    </tr>\n",
       "  </thead>\n",
       "  <tbody>\n",
       "    <tr>\n",
       "      <th>5</th>\n",
       "      <td>3.0</td>\n",
       "      <td>242.0</td>\n",
       "    </tr>\n",
       "    <tr>\n",
       "      <th>9</th>\n",
       "      <td>8.0</td>\n",
       "      <td>240.0</td>\n",
       "    </tr>\n",
       "    <tr>\n",
       "      <th>17</th>\n",
       "      <td>NaN</td>\n",
       "      <td>202.0</td>\n",
       "    </tr>\n",
       "    <tr>\n",
       "      <th>0</th>\n",
       "      <td>4.0</td>\n",
       "      <td>202.0</td>\n",
       "    </tr>\n",
       "    <tr>\n",
       "      <th>18</th>\n",
       "      <td>NaN</td>\n",
       "      <td>186.0</td>\n",
       "    </tr>\n",
       "    <tr>\n",
       "      <th>2</th>\n",
       "      <td>2.0</td>\n",
       "      <td>181.0</td>\n",
       "    </tr>\n",
       "    <tr>\n",
       "      <th>11</th>\n",
       "      <td>30.0</td>\n",
       "      <td>180.0</td>\n",
       "    </tr>\n",
       "    <tr>\n",
       "      <th>13</th>\n",
       "      <td>NaN</td>\n",
       "      <td>177.0</td>\n",
       "    </tr>\n",
       "    <tr>\n",
       "      <th>1</th>\n",
       "      <td>1.0</td>\n",
       "      <td>168.0</td>\n",
       "    </tr>\n",
       "    <tr>\n",
       "      <th>4</th>\n",
       "      <td>28.0</td>\n",
       "      <td>160.0</td>\n",
       "    </tr>\n",
       "    <tr>\n",
       "      <th>10</th>\n",
       "      <td>5.0</td>\n",
       "      <td>158.0</td>\n",
       "    </tr>\n",
       "    <tr>\n",
       "      <th>16</th>\n",
       "      <td>NaN</td>\n",
       "      <td>152.0</td>\n",
       "    </tr>\n",
       "    <tr>\n",
       "      <th>14</th>\n",
       "      <td>NaN</td>\n",
       "      <td>145.0</td>\n",
       "    </tr>\n",
       "    <tr>\n",
       "      <th>7</th>\n",
       "      <td>7.0</td>\n",
       "      <td>137.0</td>\n",
       "    </tr>\n",
       "    <tr>\n",
       "      <th>20</th>\n",
       "      <td>NaN</td>\n",
       "      <td>122.0</td>\n",
       "    </tr>\n",
       "    <tr>\n",
       "      <th>3</th>\n",
       "      <td>31.0</td>\n",
       "      <td>119.0</td>\n",
       "    </tr>\n",
       "    <tr>\n",
       "      <th>12</th>\n",
       "      <td>NaN</td>\n",
       "      <td>117.0</td>\n",
       "    </tr>\n",
       "    <tr>\n",
       "      <th>15</th>\n",
       "      <td>NaN</td>\n",
       "      <td>116.0</td>\n",
       "    </tr>\n",
       "    <tr>\n",
       "      <th>6</th>\n",
       "      <td>6.0</td>\n",
       "      <td>116.0</td>\n",
       "    </tr>\n",
       "    <tr>\n",
       "      <th>19</th>\n",
       "      <td>NaN</td>\n",
       "      <td>104.0</td>\n",
       "    </tr>\n",
       "    <tr>\n",
       "      <th>8</th>\n",
       "      <td>29.0</td>\n",
       "      <td>98.0</td>\n",
       "    </tr>\n",
       "  </tbody>\n",
       "</table>\n",
       "</div>"
      ],
      "text/plain": [
       "    team_id  predicted_success_tackles\n",
       "5       3.0                      242.0\n",
       "9       8.0                      240.0\n",
       "17      NaN                      202.0\n",
       "0       4.0                      202.0\n",
       "18      NaN                      186.0\n",
       "2       2.0                      181.0\n",
       "11     30.0                      180.0\n",
       "13      NaN                      177.0\n",
       "1       1.0                      168.0\n",
       "4      28.0                      160.0\n",
       "10      5.0                      158.0\n",
       "16      NaN                      152.0\n",
       "14      NaN                      145.0\n",
       "7       7.0                      137.0\n",
       "20      NaN                      122.0\n",
       "3      31.0                      119.0\n",
       "12      NaN                      117.0\n",
       "15      NaN                      116.0\n",
       "6       6.0                      116.0\n",
       "19      NaN                      104.0\n",
       "8      29.0                       98.0"
      ]
     },
     "execution_count": 72,
     "metadata": {},
     "output_type": "execute_result"
    }
   ],
   "source": [
    "predicted_success_tackles = reg.predict(X_test)\n",
    "predicted_success_tackles = pd.Series(predicted_success_tackles).rename('predicted_success_tackles')\n",
    "result = pd.concat([team_id, predicted_success_tackles], axis=1).reset_index(drop=True)\n",
    "result.sort_values(by=['predicted_success_tackles'], ascending=False)"
   ]
  },
  {
   "cell_type": "code",
   "execution_count": 73,
   "metadata": {},
   "outputs": [
    {
     "data": {
      "text/plain": [
       "'Gujarat Fortunegiants'"
      ]
     },
     "execution_count": 73,
     "metadata": {},
     "output_type": "execute_result"
    }
   ],
   "source": [
    "data_stats[data_stats['team_id'] == 31]['team_name'].iloc[0]"
   ]
  },
  {
   "cell_type": "markdown",
   "metadata": {},
   "source": [
    "# Team with most successful tackles is Gujarat Fortunegiants"
   ]
  },
  {
   "cell_type": "markdown",
   "metadata": {},
   "source": [
    "# Question 5: team with the highest super-performance total"
   ]
  },
  {
   "cell_type": "code",
   "execution_count": 74,
   "metadata": {},
   "outputs": [],
   "source": [
    "Y = train_df['wins']\n",
    "X = train_df.drop(['wins'], axis = 1)\n",
    "X_train, X_test, y_train, y_test = train_test_split(X, Y, test_size=0.30, random_state=101)\n",
    "not_to_scale = ['captain_id', 'coach_id', 'highest_score.team_id', 'player_team', 'series_id', 'top_allrounder_id','top_defender_id', 'team_id', 'top_raider_id', 'rank', 'wins']\n",
    "to_scale = [item for item in list(train_df.columns) if item not in not_to_scale]\n",
    "scaler = StandardScaler()\n",
    "X_train[to_scale] = scaler.fit_transform(X_train[to_scale])\n",
    "X_test[to_scale] = scaler.transform(X_test[to_scale])"
   ]
  },
  {
   "cell_type": "code",
   "execution_count": 75,
   "metadata": {},
   "outputs": [],
   "source": [
    "model1=sm.OLS(y_train,X_train)"
   ]
  },
  {
   "cell_type": "code",
   "execution_count": 76,
   "metadata": {},
   "outputs": [
    {
     "name": "stdout",
     "output_type": "stream",
     "text": [
      "                                 OLS Regression Results                                \n",
      "=======================================================================================\n",
      "Dep. Variable:                   wins   R-squared (uncentered):                   0.999\n",
      "Model:                            OLS   Adj. R-squared (uncentered):              0.985\n",
      "Method:                 Least Squares   F-statistic:                              70.99\n",
      "Date:                Wed, 02 Oct 2019   Prob (F-statistic):                     0.00232\n",
      "Time:                        12:02:01   Log-Likelihood:                         -9.6382\n",
      "No. Observations:                  47   AIC:                                      107.3\n",
      "Df Residuals:                       3   BIC:                                      188.7\n",
      "Df Model:                          44                                                  \n",
      "Covariance Type:            nonrobust                                                  \n",
      "=================================================================================================\n",
      "                                    coef    std err          t      P>|t|      [0.025      0.975]\n",
      "-------------------------------------------------------------------------------------------------\n",
      "all_out_points                    0.6606      0.738      0.895      0.437      -1.689       3.010\n",
      "all_outs                          0.6606      0.738      0.895      0.437      -1.689       3.010\n",
      "captain_id                        0.0020      0.003      0.716      0.526      -0.007       0.011\n",
      "coach_id                          0.0005      0.000      0.977      0.401      -0.001       0.002\n",
      "defence_touch_points              0.3278     11.975      0.027      0.980     -37.782      38.437\n",
      "defending_bonus_points           -0.3886      2.424     -0.160      0.883      -8.102       7.325\n",
      "draws                            -2.3720      1.118     -2.122      0.124      -5.930       1.186\n",
      "empty_raid                        3.3695      3.348      1.006      0.388      -7.286      14.025\n",
      "extra_points                     -0.4381      0.967     -0.453      0.681      -3.517       2.641\n",
      "green_cards                      -0.5850      0.745     -0.785      0.490      -2.956       1.786\n",
      "highest_score.highest_score      -0.1439      1.165     -0.123      0.910      -3.852       3.564\n",
      "highest_score.match_id           -7.0246     10.303     -0.682      0.544     -39.814      25.765\n",
      "highest_score.team_id             0.0043      0.078      0.056      0.959      -0.243       0.252\n",
      "highest_score.venue_id           -0.2626      1.008     -0.261      0.811      -3.469       2.944\n",
      "losses                           -5.2806      3.036     -1.740      0.180     -14.941       4.380\n",
      "matches                           6.2232      7.910      0.787      0.489     -18.951      31.397\n",
      "max_win_margin.match_id          -0.3984      9.248     -0.043      0.968     -29.829      29.032\n",
      "max_win_margin.max_win_margin     0.5612      0.977      0.575      0.606      -2.547       3.669\n",
      "max_win_margin.team1_id          -0.0257      0.717     -0.036      0.974      -2.307       2.256\n",
      "max_win_margin.team1_score       -1.1300      1.860     -0.607      0.587      -7.051       4.791\n",
      "max_win_margin.team2_id           1.2636      1.554      0.813      0.476      -3.681       6.208\n",
      "max_win_margin.team2_score       -0.8346      1.208     -0.691      0.539      -4.678       3.009\n",
      "max_win_margin.venue_id           0.3399      0.641      0.530      0.633      -1.700       2.380\n",
      "player_team                     1.09e-14   2.21e-14      0.493      0.656   -5.95e-14    8.14e-14\n",
      "points                           -2.4492      5.327     -0.460      0.677     -19.402      14.503\n",
      "raid_bonus_points                -0.4572      1.585     -0.288      0.792      -5.500       4.586\n",
      "raid_touch_points                -1.5344      3.660     -0.419      0.703     -13.181      10.112\n",
      "raids                             0.8923      2.911      0.307      0.779      -8.373      10.157\n",
      "rank                              0.3239      0.805      0.402      0.714      -2.239       2.887\n",
      "red_cards                        -0.0296      0.485     -0.061      0.955      -1.574       1.515\n",
      "score_difference                  0.3232      0.684      0.472      0.669      -1.854       2.500\n",
      "series_id                         0.4078      0.171      2.380      0.098      -0.138       0.953\n",
      "success_raid_percent              3.2010      3.915      0.818      0.473      -9.258      15.660\n",
      "success_raids                    -1.8740      4.146     -0.452      0.682     -15.070      11.322\n",
      "success_tackles                  -4.7044     29.760     -0.158      0.884     -99.414      90.006\n",
      "super_raids                       0.3299      0.949      0.348      0.751      -2.691       3.351\n",
      "super_tackles                    -0.3886      2.424     -0.160      0.883      -8.102       7.325\n",
      "tackle_points                     0.3278     11.975      0.027      0.980     -37.782      38.437\n",
      "tackle_success_rate               2.3187      2.253      1.029      0.379      -4.850       9.487\n",
      "tackles                          -0.2558      9.899     -0.026      0.981     -31.758      31.246\n",
      "team_id                          -0.0643      0.145     -0.443      0.687      -0.525       0.397\n",
      "top_all_rounder_value             0.3556      0.588      0.605      0.588      -1.515       2.226\n",
      "top_allrounder_id                 0.0003      0.002      0.171      0.875      -0.006       0.006\n",
      "top_defender_id                   0.0008      0.004      0.208      0.849      -0.012       0.013\n",
      "top_defender_value                0.9082      0.844      1.076      0.361      -1.778       3.595\n",
      "top_raider_id                     0.0009      0.001      0.777      0.494      -0.003       0.005\n",
      "top_raider_value                  0.1124      1.531      0.073      0.946      -4.758       4.983\n",
      "total_defending_points            0.3278     11.975      0.027      0.980     -37.782      38.437\n",
      "total_raid_points                -1.3090      3.073     -0.426      0.699     -11.088       8.470\n",
      "unsuccesful_tackles               2.7906      5.519      0.506      0.648     -14.775      20.356\n",
      "unsuccess_raids                   0.3179      2.152      0.148      0.892      -6.532       7.168\n",
      "yellow_cards                     -0.1670      0.638     -0.262      0.811      -2.199       1.865\n",
      "==============================================================================\n",
      "Omnibus:                        1.467   Durbin-Watson:                   1.548\n",
      "Prob(Omnibus):                  0.480   Jarque-Bera (JB):                1.299\n",
      "Skew:                          -0.395   Prob(JB):                        0.522\n",
      "Kurtosis:                       2.799   Cond. No.                     1.44e+16\n",
      "==============================================================================\n",
      "\n",
      "Warnings:\n",
      "[1] Standard Errors assume that the covariance matrix of the errors is correctly specified.\n",
      "[2] The input rank is higher than the number of observations.\n",
      "[3] The smallest eigenvalue is 5.38e-25. This might indicate that there are\n",
      "strong multicollinearity problems or that the design matrix is singular.\n"
     ]
    }
   ],
   "source": [
    "result=model1.fit()\n",
    "\n",
    "print(result.summary())"
   ]
  },
  {
   "cell_type": "code",
   "execution_count": 77,
   "metadata": {},
   "outputs": [
    {
     "data": {
      "text/plain": [
       "1.0"
      ]
     },
     "execution_count": 77,
     "metadata": {},
     "output_type": "execute_result"
    }
   ],
   "source": [
    "model = LinearRegression()\n",
    "reg = LinearRegression().fit(X_train, y_train)\n",
    "reg.score(X_test, y_test)"
   ]
  },
  {
   "cell_type": "code",
   "execution_count": 78,
   "metadata": {},
   "outputs": [
    {
     "data": {
      "text/html": [
       "<div>\n",
       "<style scoped>\n",
       "    .dataframe tbody tr th:only-of-type {\n",
       "        vertical-align: middle;\n",
       "    }\n",
       "\n",
       "    .dataframe tbody tr th {\n",
       "        vertical-align: top;\n",
       "    }\n",
       "\n",
       "    .dataframe thead th {\n",
       "        text-align: right;\n",
       "    }\n",
       "</style>\n",
       "<table border=\"1\" class=\"dataframe\">\n",
       "  <thead>\n",
       "    <tr style=\"text-align: right;\">\n",
       "      <th></th>\n",
       "      <th>team_id</th>\n",
       "      <th>predicted_wins</th>\n",
       "    </tr>\n",
       "  </thead>\n",
       "  <tbody>\n",
       "    <tr>\n",
       "      <th>5</th>\n",
       "      <td>3.0</td>\n",
       "      <td>16.0</td>\n",
       "    </tr>\n",
       "    <tr>\n",
       "      <th>10</th>\n",
       "      <td>5.0</td>\n",
       "      <td>12.0</td>\n",
       "    </tr>\n",
       "    <tr>\n",
       "      <th>2</th>\n",
       "      <td>2.0</td>\n",
       "      <td>12.0</td>\n",
       "    </tr>\n",
       "    <tr>\n",
       "      <th>14</th>\n",
       "      <td>NaN</td>\n",
       "      <td>12.0</td>\n",
       "    </tr>\n",
       "    <tr>\n",
       "      <th>1</th>\n",
       "      <td>1.0</td>\n",
       "      <td>10.0</td>\n",
       "    </tr>\n",
       "    <tr>\n",
       "      <th>9</th>\n",
       "      <td>8.0</td>\n",
       "      <td>10.0</td>\n",
       "    </tr>\n",
       "    <tr>\n",
       "      <th>13</th>\n",
       "      <td>NaN</td>\n",
       "      <td>10.0</td>\n",
       "    </tr>\n",
       "    <tr>\n",
       "      <th>18</th>\n",
       "      <td>NaN</td>\n",
       "      <td>9.0</td>\n",
       "    </tr>\n",
       "    <tr>\n",
       "      <th>7</th>\n",
       "      <td>7.0</td>\n",
       "      <td>9.0</td>\n",
       "    </tr>\n",
       "    <tr>\n",
       "      <th>3</th>\n",
       "      <td>31.0</td>\n",
       "      <td>9.0</td>\n",
       "    </tr>\n",
       "    <tr>\n",
       "      <th>0</th>\n",
       "      <td>4.0</td>\n",
       "      <td>8.0</td>\n",
       "    </tr>\n",
       "    <tr>\n",
       "      <th>16</th>\n",
       "      <td>NaN</td>\n",
       "      <td>7.0</td>\n",
       "    </tr>\n",
       "    <tr>\n",
       "      <th>11</th>\n",
       "      <td>30.0</td>\n",
       "      <td>6.0</td>\n",
       "    </tr>\n",
       "    <tr>\n",
       "      <th>17</th>\n",
       "      <td>NaN</td>\n",
       "      <td>6.0</td>\n",
       "    </tr>\n",
       "    <tr>\n",
       "      <th>15</th>\n",
       "      <td>NaN</td>\n",
       "      <td>4.0</td>\n",
       "    </tr>\n",
       "    <tr>\n",
       "      <th>20</th>\n",
       "      <td>NaN</td>\n",
       "      <td>4.0</td>\n",
       "    </tr>\n",
       "    <tr>\n",
       "      <th>6</th>\n",
       "      <td>6.0</td>\n",
       "      <td>4.0</td>\n",
       "    </tr>\n",
       "    <tr>\n",
       "      <th>4</th>\n",
       "      <td>28.0</td>\n",
       "      <td>3.0</td>\n",
       "    </tr>\n",
       "    <tr>\n",
       "      <th>12</th>\n",
       "      <td>NaN</td>\n",
       "      <td>3.0</td>\n",
       "    </tr>\n",
       "    <tr>\n",
       "      <th>19</th>\n",
       "      <td>NaN</td>\n",
       "      <td>2.0</td>\n",
       "    </tr>\n",
       "    <tr>\n",
       "      <th>8</th>\n",
       "      <td>29.0</td>\n",
       "      <td>1.0</td>\n",
       "    </tr>\n",
       "  </tbody>\n",
       "</table>\n",
       "</div>"
      ],
      "text/plain": [
       "    team_id  predicted_wins\n",
       "5       3.0            16.0\n",
       "10      5.0            12.0\n",
       "2       2.0            12.0\n",
       "14      NaN            12.0\n",
       "1       1.0            10.0\n",
       "9       8.0            10.0\n",
       "13      NaN            10.0\n",
       "18      NaN             9.0\n",
       "7       7.0             9.0\n",
       "3      31.0             9.0\n",
       "0       4.0             8.0\n",
       "16      NaN             7.0\n",
       "11     30.0             6.0\n",
       "17      NaN             6.0\n",
       "15      NaN             4.0\n",
       "20      NaN             4.0\n",
       "6       6.0             4.0\n",
       "4      28.0             3.0\n",
       "12      NaN             3.0\n",
       "19      NaN             2.0\n",
       "8      29.0             1.0"
      ]
     },
     "execution_count": 78,
     "metadata": {},
     "output_type": "execute_result"
    }
   ],
   "source": [
    "predicted_wins = reg.predict(X_test)\n",
    "predicted_wins = pd.Series(predicted_wins).rename('predicted_wins')\n",
    "result = pd.concat([team_id, predicted_wins], axis=1).reset_index(drop=True)\n",
    "result.sort_values(by=['predicted_wins'], ascending=False)"
   ]
  },
  {
   "cell_type": "code",
   "execution_count": 79,
   "metadata": {},
   "outputs": [
    {
     "data": {
      "text/plain": [
       "'Gujarat Fortunegiants'"
      ]
     },
     "execution_count": 79,
     "metadata": {},
     "output_type": "execute_result"
    }
   ],
   "source": [
    "data_stats[data_stats['team_id'] == 31]['team_name'].iloc[0]"
   ]
  },
  {
   "cell_type": "markdown",
   "metadata": {},
   "source": [
    "# Team with best performance is Gujarat Fortunegiants"
   ]
  },
  {
   "cell_type": "markdown",
   "metadata": {},
   "source": [
    "# Question 6:-  Predict the player with the highest SUCCESSFUL RAID percentage"
   ]
  },
  {
   "cell_type": "code",
   "execution_count": 80,
   "metadata": {},
   "outputs": [],
   "source": [
    "Y = train_df['top_raider_id']\n",
    "X = train_df.drop(['top_raider_id'], axis = 1)\n",
    "X_train, X_test, y_train, y_test = train_test_split(X, Y, test_size=0.30, random_state=101)\n",
    "not_to_scale = ['captain_id', 'coach_id', 'highest_score.team_id', 'player_team', 'series_id', 'top_allrounder_id','top_defender_id', 'team_id', 'top_raider_id', 'rank']\n",
    "to_scale = [item for item in list(train_df.columns) if item not in not_to_scale]\n",
    "scaler = StandardScaler()\n",
    "X_train[to_scale] = scaler.fit_transform(X_train[to_scale])\n",
    "X_test[to_scale] = scaler.transform(X_test[to_scale])"
   ]
  },
  {
   "cell_type": "code",
   "execution_count": 81,
   "metadata": {},
   "outputs": [],
   "source": [
    "logreg = LogisticRegression()\n",
    "logreg.fit(X_train,y_train)\n",
    "predicted_top_raider_id = logreg.predict(X_test)"
   ]
  },
  {
   "cell_type": "code",
   "execution_count": 82,
   "metadata": {},
   "outputs": [
    {
     "name": "stdout",
     "output_type": "stream",
     "text": [
      "0.19047619047619047\n"
     ]
    }
   ],
   "source": [
    "print(accuracy_score(y_test,predicted_top_raider_id))"
   ]
  },
  {
   "cell_type": "code",
   "execution_count": 83,
   "metadata": {},
   "outputs": [
    {
     "data": {
      "text/html": [
       "<div>\n",
       "<style scoped>\n",
       "    .dataframe tbody tr th:only-of-type {\n",
       "        vertical-align: middle;\n",
       "    }\n",
       "\n",
       "    .dataframe tbody tr th {\n",
       "        vertical-align: top;\n",
       "    }\n",
       "\n",
       "    .dataframe thead th {\n",
       "        text-align: right;\n",
       "    }\n",
       "</style>\n",
       "<table border=\"1\" class=\"dataframe\">\n",
       "  <thead>\n",
       "    <tr style=\"text-align: right;\">\n",
       "      <th></th>\n",
       "      <th>team_id</th>\n",
       "      <th>predicted_top_raider_id</th>\n",
       "    </tr>\n",
       "  </thead>\n",
       "  <tbody>\n",
       "    <tr>\n",
       "      <th>0</th>\n",
       "      <td>4.0</td>\n",
       "      <td>2026</td>\n",
       "    </tr>\n",
       "    <tr>\n",
       "      <th>5</th>\n",
       "      <td>3.0</td>\n",
       "      <td>757</td>\n",
       "    </tr>\n",
       "    <tr>\n",
       "      <th>9</th>\n",
       "      <td>8.0</td>\n",
       "      <td>320</td>\n",
       "    </tr>\n",
       "    <tr>\n",
       "      <th>19</th>\n",
       "      <td>NaN</td>\n",
       "      <td>318</td>\n",
       "    </tr>\n",
       "    <tr>\n",
       "      <th>18</th>\n",
       "      <td>NaN</td>\n",
       "      <td>197</td>\n",
       "    </tr>\n",
       "    <tr>\n",
       "      <th>11</th>\n",
       "      <td>30.0</td>\n",
       "      <td>143</td>\n",
       "    </tr>\n",
       "    <tr>\n",
       "      <th>13</th>\n",
       "      <td>NaN</td>\n",
       "      <td>143</td>\n",
       "    </tr>\n",
       "    <tr>\n",
       "      <th>16</th>\n",
       "      <td>NaN</td>\n",
       "      <td>92</td>\n",
       "    </tr>\n",
       "    <tr>\n",
       "      <th>15</th>\n",
       "      <td>NaN</td>\n",
       "      <td>92</td>\n",
       "    </tr>\n",
       "    <tr>\n",
       "      <th>14</th>\n",
       "      <td>NaN</td>\n",
       "      <td>92</td>\n",
       "    </tr>\n",
       "    <tr>\n",
       "      <th>17</th>\n",
       "      <td>NaN</td>\n",
       "      <td>86</td>\n",
       "    </tr>\n",
       "    <tr>\n",
       "      <th>10</th>\n",
       "      <td>5.0</td>\n",
       "      <td>86</td>\n",
       "    </tr>\n",
       "    <tr>\n",
       "      <th>3</th>\n",
       "      <td>31.0</td>\n",
       "      <td>86</td>\n",
       "    </tr>\n",
       "    <tr>\n",
       "      <th>12</th>\n",
       "      <td>NaN</td>\n",
       "      <td>75</td>\n",
       "    </tr>\n",
       "    <tr>\n",
       "      <th>8</th>\n",
       "      <td>29.0</td>\n",
       "      <td>75</td>\n",
       "    </tr>\n",
       "    <tr>\n",
       "      <th>7</th>\n",
       "      <td>7.0</td>\n",
       "      <td>58</td>\n",
       "    </tr>\n",
       "    <tr>\n",
       "      <th>6</th>\n",
       "      <td>6.0</td>\n",
       "      <td>58</td>\n",
       "    </tr>\n",
       "    <tr>\n",
       "      <th>20</th>\n",
       "      <td>NaN</td>\n",
       "      <td>58</td>\n",
       "    </tr>\n",
       "    <tr>\n",
       "      <th>4</th>\n",
       "      <td>28.0</td>\n",
       "      <td>41</td>\n",
       "    </tr>\n",
       "    <tr>\n",
       "      <th>1</th>\n",
       "      <td>1.0</td>\n",
       "      <td>29</td>\n",
       "    </tr>\n",
       "    <tr>\n",
       "      <th>2</th>\n",
       "      <td>2.0</td>\n",
       "      <td>29</td>\n",
       "    </tr>\n",
       "  </tbody>\n",
       "</table>\n",
       "</div>"
      ],
      "text/plain": [
       "    team_id  predicted_top_raider_id\n",
       "0       4.0                     2026\n",
       "5       3.0                      757\n",
       "9       8.0                      320\n",
       "19      NaN                      318\n",
       "18      NaN                      197\n",
       "11     30.0                      143\n",
       "13      NaN                      143\n",
       "16      NaN                       92\n",
       "15      NaN                       92\n",
       "14      NaN                       92\n",
       "17      NaN                       86\n",
       "10      5.0                       86\n",
       "3      31.0                       86\n",
       "12      NaN                       75\n",
       "8      29.0                       75\n",
       "7       7.0                       58\n",
       "6       6.0                       58\n",
       "20      NaN                       58\n",
       "4      28.0                       41\n",
       "1       1.0                       29\n",
       "2       2.0                       29"
      ]
     },
     "execution_count": 83,
     "metadata": {},
     "output_type": "execute_result"
    }
   ],
   "source": [
    "predicted_top_raider_id = pd.Series(predicted_top_raider_id).rename('predicted_top_raider_id')\n",
    "result = pd.concat([team_id, predicted_top_raider_id], axis=1).reset_index(drop=True)\n",
    "result.sort_values(by=['predicted_top_raider_id'], ascending=False)"
   ]
  },
  {
   "cell_type": "code",
   "execution_count": null,
   "metadata": {},
   "outputs": [],
   "source": []
  }
 ],
 "metadata": {
  "kernelspec": {
   "display_name": "Python 3",
   "language": "python",
   "name": "python3"
  },
  "language_info": {
   "codemirror_mode": {
    "name": "ipython",
    "version": 3
   },
   "file_extension": ".py",
   "mimetype": "text/x-python",
   "name": "python",
   "nbconvert_exporter": "python",
   "pygments_lexer": "ipython3",
   "version": "3.7.3"
  }
 },
 "nbformat": 4,
 "nbformat_minor": 2
}
